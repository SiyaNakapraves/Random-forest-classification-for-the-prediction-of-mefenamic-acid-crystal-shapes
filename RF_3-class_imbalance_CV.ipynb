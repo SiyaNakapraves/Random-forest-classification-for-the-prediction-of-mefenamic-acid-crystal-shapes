{
 "cells": [
  {
   "cell_type": "code",
   "execution_count": 1,
   "id": "edd0533f",
   "metadata": {},
   "outputs": [],
   "source": [
    "import pandas as pd\n",
    "\n",
    "Dataset = pd.read_excel(r'C:/Users/kqb18171/OneDrive - University of Strathclyde/Crystal shape prediction chapter/Crystal_Shape_Classification.xlsx', sheet_name='3-class_imbalanced_rand')"
   ]
  },
  {
   "cell_type": "code",
   "execution_count": 2,
   "id": "bc7120b5",
   "metadata": {},
   "outputs": [
    {
     "data": {
      "text/html": [
       "<div>\n",
       "<style scoped>\n",
       "    .dataframe tbody tr th:only-of-type {\n",
       "        vertical-align: middle;\n",
       "    }\n",
       "\n",
       "    .dataframe tbody tr th {\n",
       "        vertical-align: top;\n",
       "    }\n",
       "\n",
       "    .dataframe thead th {\n",
       "        text-align: right;\n",
       "    }\n",
       "</style>\n",
       "<table border=\"1\" class=\"dataframe\">\n",
       "  <thead>\n",
       "    <tr style=\"text-align: right;\">\n",
       "      <th></th>\n",
       "      <th>Solvent name</th>\n",
       "      <th>SMILE</th>\n",
       "      <th>apol</th>\n",
       "      <th>ast_fraglike</th>\n",
       "      <th>ast_fraglike_ext</th>\n",
       "      <th>ast_violation</th>\n",
       "      <th>ast_violation_ext</th>\n",
       "      <th>a_acc</th>\n",
       "      <th>a_acid</th>\n",
       "      <th>a_aro</th>\n",
       "      <th>...</th>\n",
       "      <th>weinerPath</th>\n",
       "      <th>weinerPol</th>\n",
       "      <th>zagreb</th>\n",
       "      <th>BP</th>\n",
       "      <th>MP</th>\n",
       "      <th>Density_g-mL</th>\n",
       "      <th>Sol_25c</th>\n",
       "      <th>SS</th>\n",
       "      <th>Conc_mg-mL</th>\n",
       "      <th>CrysShape</th>\n",
       "    </tr>\n",
       "  </thead>\n",
       "  <tbody>\n",
       "    <tr>\n",
       "      <th>0</th>\n",
       "      <td>2-Propanol</td>\n",
       "      <td>OC(C)C</td>\n",
       "      <td>11.416344</td>\n",
       "      <td>1</td>\n",
       "      <td>1</td>\n",
       "      <td>0</td>\n",
       "      <td>0</td>\n",
       "      <td>1</td>\n",
       "      <td>0</td>\n",
       "      <td>0</td>\n",
       "      <td>...</td>\n",
       "      <td>9</td>\n",
       "      <td>0</td>\n",
       "      <td>12</td>\n",
       "      <td>82.5</td>\n",
       "      <td>-89.0</td>\n",
       "      <td>0.790</td>\n",
       "      <td>5.97</td>\n",
       "      <td>1.408915</td>\n",
       "      <td>8.411221</td>\n",
       "      <td>Polyhedral</td>\n",
       "    </tr>\n",
       "    <tr>\n",
       "      <th>1</th>\n",
       "      <td>Ethanol</td>\n",
       "      <td>OCC</td>\n",
       "      <td>8.322758</td>\n",
       "      <td>1</td>\n",
       "      <td>1</td>\n",
       "      <td>0</td>\n",
       "      <td>0</td>\n",
       "      <td>1</td>\n",
       "      <td>0</td>\n",
       "      <td>0</td>\n",
       "      <td>...</td>\n",
       "      <td>4</td>\n",
       "      <td>0</td>\n",
       "      <td>6</td>\n",
       "      <td>78.4</td>\n",
       "      <td>-114.1</td>\n",
       "      <td>0.790</td>\n",
       "      <td>7.87</td>\n",
       "      <td>1.465403</td>\n",
       "      <td>11.532725</td>\n",
       "      <td>Polyhedral</td>\n",
       "    </tr>\n",
       "    <tr>\n",
       "      <th>2</th>\n",
       "      <td>Nitromethane</td>\n",
       "      <td>O=[N+]([O-])C</td>\n",
       "      <td>6.464379</td>\n",
       "      <td>1</td>\n",
       "      <td>1</td>\n",
       "      <td>0</td>\n",
       "      <td>0</td>\n",
       "      <td>0</td>\n",
       "      <td>0</td>\n",
       "      <td>0</td>\n",
       "      <td>...</td>\n",
       "      <td>9</td>\n",
       "      <td>0</td>\n",
       "      <td>12</td>\n",
       "      <td>100.0</td>\n",
       "      <td>-29.0</td>\n",
       "      <td>1.140</td>\n",
       "      <td>1.35</td>\n",
       "      <td>1.123957</td>\n",
       "      <td>1.517342</td>\n",
       "      <td>Needle</td>\n",
       "    </tr>\n",
       "    <tr>\n",
       "      <th>3</th>\n",
       "      <td>2-Butanone</td>\n",
       "      <td>O=C(CC)C</td>\n",
       "      <td>13.176344</td>\n",
       "      <td>1</td>\n",
       "      <td>1</td>\n",
       "      <td>0</td>\n",
       "      <td>0</td>\n",
       "      <td>1</td>\n",
       "      <td>0</td>\n",
       "      <td>0</td>\n",
       "      <td>...</td>\n",
       "      <td>18</td>\n",
       "      <td>2</td>\n",
       "      <td>16</td>\n",
       "      <td>79.6</td>\n",
       "      <td>-86.0</td>\n",
       "      <td>0.805</td>\n",
       "      <td>18.23</td>\n",
       "      <td>2.011844</td>\n",
       "      <td>36.675909</td>\n",
       "      <td>Needle</td>\n",
       "    </tr>\n",
       "    <tr>\n",
       "      <th>4</th>\n",
       "      <td>1-Chlorobutane</td>\n",
       "      <td>ClCCCC</td>\n",
       "      <td>15.221137</td>\n",
       "      <td>1</td>\n",
       "      <td>1</td>\n",
       "      <td>0</td>\n",
       "      <td>0</td>\n",
       "      <td>0</td>\n",
       "      <td>0</td>\n",
       "      <td>0</td>\n",
       "      <td>...</td>\n",
       "      <td>20</td>\n",
       "      <td>2</td>\n",
       "      <td>14</td>\n",
       "      <td>78.5</td>\n",
       "      <td>-123.1</td>\n",
       "      <td>0.880</td>\n",
       "      <td>0.36</td>\n",
       "      <td>1.123780</td>\n",
       "      <td>0.404561</td>\n",
       "      <td>No crystal</td>\n",
       "    </tr>\n",
       "  </tbody>\n",
       "</table>\n",
       "<p>5 rows × 215 columns</p>\n",
       "</div>"
      ],
      "text/plain": [
       "     Solvent name          SMILE       apol  ast_fraglike  ast_fraglike_ext  \\\n",
       "0      2-Propanol         OC(C)C  11.416344             1                 1   \n",
       "1         Ethanol            OCC   8.322758             1                 1   \n",
       "2    Nitromethane  O=[N+]([O-])C   6.464379             1                 1   \n",
       "3      2-Butanone       O=C(CC)C  13.176344             1                 1   \n",
       "4  1-Chlorobutane         ClCCCC  15.221137             1                 1   \n",
       "\n",
       "   ast_violation  ast_violation_ext  a_acc  a_acid  a_aro  ...  weinerPath  \\\n",
       "0              0                  0      1       0      0  ...           9   \n",
       "1              0                  0      1       0      0  ...           4   \n",
       "2              0                  0      0       0      0  ...           9   \n",
       "3              0                  0      1       0      0  ...          18   \n",
       "4              0                  0      0       0      0  ...          20   \n",
       "\n",
       "   weinerPol  zagreb     BP     MP  Density_g-mL  Sol_25c        SS  \\\n",
       "0          0      12   82.5  -89.0         0.790     5.97  1.408915   \n",
       "1          0       6   78.4 -114.1         0.790     7.87  1.465403   \n",
       "2          0      12  100.0  -29.0         1.140     1.35  1.123957   \n",
       "3          2      16   79.6  -86.0         0.805    18.23  2.011844   \n",
       "4          2      14   78.5 -123.1         0.880     0.36  1.123780   \n",
       "\n",
       "   Conc_mg-mL   CrysShape  \n",
       "0    8.411221  Polyhedral  \n",
       "1   11.532725  Polyhedral  \n",
       "2    1.517342      Needle  \n",
       "3   36.675909      Needle  \n",
       "4    0.404561  No crystal  \n",
       "\n",
       "[5 rows x 215 columns]"
      ]
     },
     "execution_count": 2,
     "metadata": {},
     "output_type": "execute_result"
    }
   ],
   "source": [
    "#Dataset.drop(Dataset.iloc[:, 26:76], inplace = True, axis = 1)\n",
    "\n",
    "#pd.set_option('display.max_columns', 10)\n",
    "\n",
    "Dataset.head()"
   ]
  },
  {
   "cell_type": "code",
   "execution_count": 3,
   "id": "ed9dfb18",
   "metadata": {},
   "outputs": [
    {
     "name": "stdout",
     "output_type": "stream",
     "text": [
      "(261, 215)\n"
     ]
    }
   ],
   "source": [
    "print(Dataset.shape)"
   ]
  },
  {
   "cell_type": "code",
   "execution_count": 4,
   "id": "b7b0edc6",
   "metadata": {},
   "outputs": [],
   "source": [
    "# Use numpy to convert to arrays\n",
    "import numpy as np\n",
    "# outcomes are the values we want to predict\n",
    "outcomes = np.array(Dataset['CrysShape'])\n",
    "# Remove the outcomes from the parameters (data needed for making the prediction)\n",
    "# axis 1 refers to the columns\n",
    "features = Dataset.drop(['Solvent name', 'SMILE', 'Conc_mg-mL', 'CrysShape'], axis = 1)\n",
    "# Saving feature names for later use\n",
    "features_list = list(features.columns)\n",
    "# Convert to numpy array\n",
    "features_list = np.array(features_list)"
   ]
  },
  {
   "cell_type": "markdown",
   "id": "e7362191",
   "metadata": {},
   "source": [
    "# train/test split (75/25)"
   ]
  },
  {
   "cell_type": "code",
   "execution_count": 5,
   "id": "97652475",
   "metadata": {},
   "outputs": [
    {
     "name": "stdout",
     "output_type": "stream",
     "text": [
      "minimal accuracy = 0.7424242424242424\n",
      "maximal accuracy = 0.9393939393939394\n",
      "mean accuracy = 0.8440909090909089\n",
      "SD = 0.03587391193321551\n"
     ]
    }
   ],
   "source": [
    "from sklearn.model_selection import train_test_split\n",
    "from sklearn.ensemble import RandomForestClassifier\n",
    "from sklearn import metrics\n",
    "\n",
    "x = features\n",
    "y = outcomes\n",
    "\n",
    "acc_array = list()\n",
    "clf_array = list()\n",
    "xy_array = list()\n",
    "\n",
    "for i in range(100):\n",
    "    \n",
    "    x_train, x_test, y_train, y_test = train_test_split(x, y, test_size=0.25)\n",
    "        \n",
    "    clf = RandomForestClassifier(n_estimators=100, random_state=0)\n",
    "    clf.fit(x_train, y_train)\n",
    "    y_pred = clf.predict(x_test)\n",
    "    \n",
    "    #calculate accuracy of the model\n",
    "    acc = metrics.accuracy_score(y_test, y_pred)\n",
    "    \n",
    "    acc_array.append(acc)\n",
    "    clf_array.append(clf)\n",
    "    xy_array.append([x_train, x_test, y_train, y_test])\n",
    "    \n",
    "#print('Accuracy: ', acc)   \n",
    "print('minimal accuracy =', np.min(acc_array))\n",
    "print('maximal accuracy =', np.max(acc_array))\n",
    "print('mean accuracy =', np.mean(acc_array))\n",
    "print('SD =', np.std(acc_array))"
   ]
  },
  {
   "cell_type": "markdown",
   "id": "2f0cec07",
   "metadata": {},
   "source": [
    "# 4-fold Cross-validation"
   ]
  },
  {
   "cell_type": "code",
   "execution_count": 6,
   "id": "f9e611bc",
   "metadata": {},
   "outputs": [],
   "source": [
    "# Necessary imports: \n",
    "from sklearn.model_selection import cross_val_score, cross_val_predict\n",
    "from sklearn import metrics"
   ]
  },
  {
   "cell_type": "code",
   "execution_count": 7,
   "id": "bb6a8565",
   "metadata": {},
   "outputs": [
    {
     "name": "stdout",
     "output_type": "stream",
     "text": [
      "Cross-validated scores: [0.8030303  0.84615385 0.86153846 0.78461538]\n",
      "average accuracy from 4-fold CV: 0.8238344988344988\n",
      "standard deviation of accuracy: 0.031187720145654758\n"
     ]
    }
   ],
   "source": [
    "# Perform 4-fold cross validation\n",
    "scores = cross_val_score(clf.fit(x_train, y_train), x, y, cv=4)\n",
    "print ('Cross-validated scores:', scores)\n",
    "print(\"average accuracy from 4-fold CV:\", np.mean(scores))\n",
    "print(\"standard deviation of accuracy:\", np.std(scores))"
   ]
  },
  {
   "cell_type": "markdown",
   "id": "c9c74baf",
   "metadata": {},
   "source": [
    "# Confusion matrix"
   ]
  },
  {
   "cell_type": "code",
   "execution_count": 8,
   "id": "9aa97137",
   "metadata": {},
   "outputs": [
    {
     "name": "stdout",
     "output_type": "stream",
     "text": [
      "[[16  0  4]\n",
      " [ 2 11  2]\n",
      " [ 0  2 29]]\n"
     ]
    }
   ],
   "source": [
    "#confusion matrix\n",
    "from sklearn.metrics import confusion_matrix\n",
    "conf_mat = confusion_matrix(y_test, y_pred)\n",
    "print(conf_mat)"
   ]
  },
  {
   "cell_type": "code",
   "execution_count": 9,
   "id": "847507cd",
   "metadata": {},
   "outputs": [
    {
     "name": "stdout",
     "output_type": "stream",
     "text": [
      "              precision    recall  f1-score   support\n",
      "\n",
      "      Needle       0.89      0.80      0.84        20\n",
      "  No crystal       0.85      0.73      0.79        15\n",
      "  Polyhedral       0.83      0.94      0.88        31\n",
      "\n",
      "    accuracy                           0.85        66\n",
      "   macro avg       0.85      0.82      0.84        66\n",
      "weighted avg       0.85      0.85      0.85        66\n",
      "\n"
     ]
    }
   ],
   "source": [
    "#precision and recall\n",
    "from sklearn.metrics import classification_report\n",
    "print(classification_report(y_test, y_pred))"
   ]
  },
  {
   "cell_type": "code",
   "execution_count": 10,
   "id": "636d13f3",
   "metadata": {},
   "outputs": [
    {
     "data": {
      "image/png": "[encoded data removed]",
      "text/plain": [
       "<Figure size 432x288 with 2 Axes>"
      ]
     },
     "metadata": {
      "needs_background": "light"
     },
     "output_type": "display_data"
    }
   ],
   "source": [
    "# Visualize it as a heatmap\n",
    "import matplotlib.pyplot as plt\n",
    "import seaborn\n",
    "seaborn.heatmap(conf_mat)\n",
    "plt.show()"
   ]
  },
  {
   "cell_type": "markdown",
   "id": "30d0731d",
   "metadata": {},
   "source": [
    "# train/test split (80/20)"
   ]
  },
  {
   "cell_type": "code",
   "execution_count": 11,
   "id": "0a9bb228",
   "metadata": {},
   "outputs": [
    {
     "name": "stdout",
     "output_type": "stream",
     "text": [
      "minimal accuracy = 0.7358490566037735\n",
      "maximal accuracy = 0.9433962264150944\n",
      "mean accuracy = 0.8424528301886792\n",
      "SD = 0.04483862127666469\n"
     ]
    }
   ],
   "source": [
    "from sklearn.model_selection import train_test_split\n",
    "from sklearn.ensemble import RandomForestClassifier\n",
    "from sklearn import metrics\n",
    "\n",
    "x = features\n",
    "y = outcomes\n",
    "\n",
    "acc_array = list()\n",
    "clf_array = list()\n",
    "xy_array = list()\n",
    "\n",
    "for i in range(100):\n",
    "    \n",
    "    x_train, x_test, y_train, y_test = train_test_split(x, y, test_size=0.20)\n",
    "        \n",
    "    clf = RandomForestClassifier(n_estimators=100, random_state=0)\n",
    "    clf.fit(x_train, y_train)\n",
    "    y_pred = clf.predict(x_test)\n",
    "    \n",
    "    #calculate accuracy of the model\n",
    "    acc = metrics.accuracy_score(y_test, y_pred)\n",
    "    \n",
    "    acc_array.append(acc)\n",
    "    clf_array.append(clf)\n",
    "    xy_array.append([x_train, x_test, y_train, y_test])\n",
    "    \n",
    "#print('Accuracy: ', acc)   \n",
    "print('minimal accuracy =', np.min(acc_array))\n",
    "print('maximal accuracy =', np.max(acc_array))\n",
    "print('mean accuracy =', np.mean(acc_array))\n",
    "print('SD =', np.std(acc_array))"
   ]
  },
  {
   "cell_type": "markdown",
   "id": "253437a6",
   "metadata": {},
   "source": [
    "# 5-fold Cross-validation"
   ]
  },
  {
   "cell_type": "code",
   "execution_count": 12,
   "id": "c1f411cc",
   "metadata": {},
   "outputs": [
    {
     "name": "stdout",
     "output_type": "stream",
     "text": [
      "Cross-validated scores: [0.8490566  0.86538462 0.86538462 0.84615385 0.80769231]\n",
      "average accuracy from 5-fold CV: 0.846734397677794\n",
      "standard deviation of accuracy: 0.021098226051882968\n"
     ]
    }
   ],
   "source": [
    "# Perform 5-fold cross validation\n",
    "scores = cross_val_score(clf.fit(x_train, y_train), x, y, cv=5)\n",
    "print ('Cross-validated scores:', scores)\n",
    "print(\"average accuracy from 5-fold CV:\", np.mean(scores))\n",
    "print(\"standard deviation of accuracy:\", np.std(scores))"
   ]
  },
  {
   "cell_type": "markdown",
   "id": "eb2a0c23",
   "metadata": {},
   "source": [
    "# Confusion matrix"
   ]
  },
  {
   "cell_type": "code",
   "execution_count": 13,
   "id": "34005fdc",
   "metadata": {},
   "outputs": [
    {
     "name": "stdout",
     "output_type": "stream",
     "text": [
      "[[12  0  1]\n",
      " [ 1  5  4]\n",
      " [ 2  1 27]]\n"
     ]
    }
   ],
   "source": [
    "#confusion matrix\n",
    "from sklearn.metrics import confusion_matrix\n",
    "conf_mat = confusion_matrix(y_test, y_pred)\n",
    "print(conf_mat)"
   ]
  },
  {
   "cell_type": "code",
   "execution_count": 14,
   "id": "524f9dc0",
   "metadata": {},
   "outputs": [
    {
     "name": "stdout",
     "output_type": "stream",
     "text": [
      "              precision    recall  f1-score   support\n",
      "\n",
      "      Needle       0.80      0.92      0.86        13\n",
      "  No crystal       0.83      0.50      0.62        10\n",
      "  Polyhedral       0.84      0.90      0.87        30\n",
      "\n",
      "    accuracy                           0.83        53\n",
      "   macro avg       0.83      0.77      0.78        53\n",
      "weighted avg       0.83      0.83      0.82        53\n",
      "\n"
     ]
    }
   ],
   "source": [
    "#precision and recall\n",
    "from sklearn.metrics import classification_report\n",
    "print(classification_report(y_test, y_pred))"
   ]
  },
  {
   "cell_type": "code",
   "execution_count": 15,
   "id": "b9f3aa7a",
   "metadata": {},
   "outputs": [
    {
     "data": {
      "image/png": "[encoded data removed]",
      "text/plain": [
       "<Figure size 432x288 with 2 Axes>"
      ]
     },
     "metadata": {
      "needs_background": "light"
     },
     "output_type": "display_data"
    }
   ],
   "source": [
    "# Visualize it as a heatmap\n",
    "import matplotlib.pyplot as plt\n",
    "import seaborn\n",
    "seaborn.heatmap(conf_mat)\n",
    "plt.show()"
   ]
  },
  {
   "cell_type": "markdown",
   "id": "08657995",
   "metadata": {},
   "source": [
    "# train/test split (90/10)"
   ]
  },
  {
   "cell_type": "code",
   "execution_count": 16,
   "id": "3d29b9e1",
   "metadata": {},
   "outputs": [
    {
     "name": "stdout",
     "output_type": "stream",
     "text": [
      "minimal accuracy = 0.7037037037037037\n",
      "maximal accuracy = 1.0\n",
      "mean accuracy = 0.8503703703703702\n",
      "SD = 0.06195710715948587\n"
     ]
    }
   ],
   "source": [
    "from sklearn.model_selection import train_test_split\n",
    "from sklearn.ensemble import RandomForestClassifier\n",
    "from sklearn import metrics\n",
    "\n",
    "x = features\n",
    "y = outcomes\n",
    "\n",
    "acc_array = list()\n",
    "clf_array = list()\n",
    "xy_array = list()\n",
    "\n",
    "for i in range(100):\n",
    "    \n",
    "    x_train, x_test, y_train, y_test = train_test_split(x, y, test_size=0.10)\n",
    "        \n",
    "    clf = RandomForestClassifier(n_estimators=100, random_state=0)\n",
    "    clf.fit(x_train, y_train)\n",
    "    y_pred = clf.predict(x_test)\n",
    "    \n",
    "    #calculate accuracy of the model\n",
    "    acc = metrics.accuracy_score(y_test, y_pred)\n",
    "    \n",
    "    acc_array.append(acc)\n",
    "    clf_array.append(clf)\n",
    "    xy_array.append([x_train, x_test, y_train, y_test])\n",
    "    \n",
    "#print('Accuracy: ', acc)   \n",
    "print('minimal accuracy =', np.min(acc_array))\n",
    "print('maximal accuracy =', np.max(acc_array))\n",
    "print('mean accuracy =', np.mean(acc_array))\n",
    "print('SD =', np.std(acc_array))"
   ]
  },
  {
   "cell_type": "markdown",
   "id": "d9c3aa33",
   "metadata": {},
   "source": [
    "# 10-fold Cross-validation"
   ]
  },
  {
   "cell_type": "code",
   "execution_count": 17,
   "id": "65885827",
   "metadata": {},
   "outputs": [
    {
     "name": "stdout",
     "output_type": "stream",
     "text": [
      "Cross-validated scores: [0.81481481 0.88461538 0.84615385 0.88461538 0.80769231 0.80769231\n",
      " 0.88461538 0.84615385 0.80769231 0.73076923]\n",
      "average accuracy from 10-fold CV: 0.8314814814814815\n",
      "standard deviation of accuracy: 0.045846157032957816\n"
     ]
    }
   ],
   "source": [
    "# Perform 10-fold cross validation\n",
    "scores = cross_val_score(clf.fit(x_train, y_train), x, y, cv=10)\n",
    "print ('Cross-validated scores:', scores)\n",
    "print(\"average accuracy from 10-fold CV:\", np.mean(scores))\n",
    "print(\"standard deviation of accuracy:\", np.std(scores))"
   ]
  },
  {
   "cell_type": "markdown",
   "id": "0c18e4aa",
   "metadata": {},
   "source": [
    "# Confusion matrix"
   ]
  },
  {
   "cell_type": "code",
   "execution_count": 18,
   "id": "97b739ca",
   "metadata": {},
   "outputs": [
    {
     "name": "stdout",
     "output_type": "stream",
     "text": [
      "[[ 6  0  1]\n",
      " [ 0  4  0]\n",
      " [ 0  1 15]]\n"
     ]
    }
   ],
   "source": [
    "#confusion matrix\n",
    "from sklearn.metrics import confusion_matrix\n",
    "conf_mat = confusion_matrix(y_test, y_pred)\n",
    "print(conf_mat)"
   ]
  },
  {
   "cell_type": "code",
   "execution_count": 19,
   "id": "0ae447bb",
   "metadata": {},
   "outputs": [
    {
     "name": "stdout",
     "output_type": "stream",
     "text": [
      "              precision    recall  f1-score   support\n",
      "\n",
      "      Needle       1.00      0.86      0.92         7\n",
      "  No crystal       0.80      1.00      0.89         4\n",
      "  Polyhedral       0.94      0.94      0.94        16\n",
      "\n",
      "    accuracy                           0.93        27\n",
      "   macro avg       0.91      0.93      0.92        27\n",
      "weighted avg       0.93      0.93      0.93        27\n",
      "\n"
     ]
    }
   ],
   "source": [
    "#precision and recall\n",
    "from sklearn.metrics import classification_report\n",
    "print(classification_report(y_test, y_pred))"
   ]
  },
  {
   "cell_type": "code",
   "execution_count": 20,
   "id": "aad71f75",
   "metadata": {},
   "outputs": [
    {
     "data": {
      "image/png": "[encoded data removed]",
      "text/plain": [
       "<Figure size 432x288 with 2 Axes>"
      ]
     },
     "metadata": {
      "needs_background": "light"
     },
     "output_type": "display_data"
    }
   ],
   "source": [
    "# Visualize it as a heatmap\n",
    "import matplotlib.pyplot as plt\n",
    "import seaborn\n",
    "seaborn.heatmap(conf_mat)\n",
    "plt.show()"
   ]
  }
 ],
 "metadata": {
  "kernelspec": {
   "display_name": "Python 3",
   "language": "python",
   "name": "python3"
  },
  "language_info": {
   "codemirror_mode": {
    "name": "ipython",
    "version": 3
   },
   "file_extension": ".py",
   "mimetype": "text/x-python",
   "name": "python",
   "nbconvert_exporter": "python",
   "pygments_lexer": "ipython3",
   "version": "3.8.8"
  }
 },
 "nbformat": 4,
 "nbformat_minor": 5
}
