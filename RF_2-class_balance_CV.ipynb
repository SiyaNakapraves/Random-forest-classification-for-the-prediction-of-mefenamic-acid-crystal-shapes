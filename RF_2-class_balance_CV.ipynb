{
 "cells": [
  {
   "cell_type": "code",
   "execution_count": 1,
   "id": "edd0533f",
   "metadata": {},
   "outputs": [],
   "source": [
    "import pandas as pd\n",
    "\n",
    "Dataset = pd.read_excel(r'C:/Users/kqb18171/OneDrive - University of Strathclyde/Crystal shape prediction chapter/Crystal_Shape_Classification.xlsx', sheet_name='2-class_balanced_rand')"
   ]
  },
  {
   "cell_type": "code",
   "execution_count": 2,
   "id": "bc7120b5",
   "metadata": {},
   "outputs": [
    {
     "data": {
      "text/html": [
       "<div>\n",
       "<style scoped>\n",
       "    .dataframe tbody tr th:only-of-type {\n",
       "        vertical-align: middle;\n",
       "    }\n",
       "\n",
       "    .dataframe tbody tr th {\n",
       "        vertical-align: top;\n",
       "    }\n",
       "\n",
       "    .dataframe thead th {\n",
       "        text-align: right;\n",
       "    }\n",
       "</style>\n",
       "<table border=\"1\" class=\"dataframe\">\n",
       "  <thead>\n",
       "    <tr style=\"text-align: right;\">\n",
       "      <th></th>\n",
       "      <th>Solvent name</th>\n",
       "      <th>SMILE</th>\n",
       "      <th>apol</th>\n",
       "      <th>ast_fraglike</th>\n",
       "      <th>ast_fraglike_ext</th>\n",
       "      <th>ast_violation</th>\n",
       "      <th>ast_violation_ext</th>\n",
       "      <th>a_acc</th>\n",
       "      <th>a_acid</th>\n",
       "      <th>a_aro</th>\n",
       "      <th>...</th>\n",
       "      <th>weinerPath</th>\n",
       "      <th>weinerPol</th>\n",
       "      <th>zagreb</th>\n",
       "      <th>BP</th>\n",
       "      <th>MP</th>\n",
       "      <th>Density_g-mL</th>\n",
       "      <th>Sol_25c</th>\n",
       "      <th>SS</th>\n",
       "      <th>Conc_mg-mL</th>\n",
       "      <th>CrysShape</th>\n",
       "    </tr>\n",
       "  </thead>\n",
       "  <tbody>\n",
       "    <tr>\n",
       "      <th>0</th>\n",
       "      <td>Toluene</td>\n",
       "      <td>Cc1ccccc2</td>\n",
       "      <td>17.654345</td>\n",
       "      <td>1</td>\n",
       "      <td>1</td>\n",
       "      <td>0</td>\n",
       "      <td>0</td>\n",
       "      <td>0</td>\n",
       "      <td>0</td>\n",
       "      <td>6</td>\n",
       "      <td>...</td>\n",
       "      <td>42</td>\n",
       "      <td>5</td>\n",
       "      <td>30</td>\n",
       "      <td>110.6</td>\n",
       "      <td>-95.0</td>\n",
       "      <td>0.867</td>\n",
       "      <td>0.92</td>\n",
       "      <td>2.717391</td>\n",
       "      <td>2.500000</td>\n",
       "      <td>Needle</td>\n",
       "    </tr>\n",
       "    <tr>\n",
       "      <th>1</th>\n",
       "      <td>Methyl acetate</td>\n",
       "      <td>O=C(OC)C</td>\n",
       "      <td>10.884758</td>\n",
       "      <td>1</td>\n",
       "      <td>1</td>\n",
       "      <td>0</td>\n",
       "      <td>0</td>\n",
       "      <td>1</td>\n",
       "      <td>0</td>\n",
       "      <td>0</td>\n",
       "      <td>...</td>\n",
       "      <td>18</td>\n",
       "      <td>2</td>\n",
       "      <td>16</td>\n",
       "      <td>56.9</td>\n",
       "      <td>-98.0</td>\n",
       "      <td>0.932</td>\n",
       "      <td>10.71</td>\n",
       "      <td>1.832356</td>\n",
       "      <td>19.624536</td>\n",
       "      <td>Needle</td>\n",
       "    </tr>\n",
       "    <tr>\n",
       "      <th>2</th>\n",
       "      <td>2-Propanol</td>\n",
       "      <td>OC(C)C</td>\n",
       "      <td>11.416344</td>\n",
       "      <td>1</td>\n",
       "      <td>1</td>\n",
       "      <td>0</td>\n",
       "      <td>0</td>\n",
       "      <td>1</td>\n",
       "      <td>0</td>\n",
       "      <td>0</td>\n",
       "      <td>...</td>\n",
       "      <td>9</td>\n",
       "      <td>0</td>\n",
       "      <td>12</td>\n",
       "      <td>82.5</td>\n",
       "      <td>-89.0</td>\n",
       "      <td>0.790</td>\n",
       "      <td>5.97</td>\n",
       "      <td>1.487584</td>\n",
       "      <td>8.880879</td>\n",
       "      <td>Needle</td>\n",
       "    </tr>\n",
       "    <tr>\n",
       "      <th>3</th>\n",
       "      <td>Ethyl acetate</td>\n",
       "      <td>O=C(OCC)C</td>\n",
       "      <td>13.978344</td>\n",
       "      <td>1</td>\n",
       "      <td>1</td>\n",
       "      <td>0</td>\n",
       "      <td>0</td>\n",
       "      <td>1</td>\n",
       "      <td>0</td>\n",
       "      <td>0</td>\n",
       "      <td>...</td>\n",
       "      <td>32</td>\n",
       "      <td>3</td>\n",
       "      <td>20</td>\n",
       "      <td>77.1</td>\n",
       "      <td>-83.6</td>\n",
       "      <td>0.894</td>\n",
       "      <td>9.61</td>\n",
       "      <td>1.989156</td>\n",
       "      <td>19.115788</td>\n",
       "      <td>Polyhedral</td>\n",
       "    </tr>\n",
       "    <tr>\n",
       "      <th>4</th>\n",
       "      <td>Trichloroethylene</td>\n",
       "      <td>Cl/C(/Cl)=C\\Cl</td>\n",
       "      <td>10.726793</td>\n",
       "      <td>1</td>\n",
       "      <td>1</td>\n",
       "      <td>0</td>\n",
       "      <td>0</td>\n",
       "      <td>0</td>\n",
       "      <td>0</td>\n",
       "      <td>0</td>\n",
       "      <td>...</td>\n",
       "      <td>18</td>\n",
       "      <td>2</td>\n",
       "      <td>16</td>\n",
       "      <td>74.0</td>\n",
       "      <td>-33.0</td>\n",
       "      <td>1.460</td>\n",
       "      <td>2.50</td>\n",
       "      <td>1.777007</td>\n",
       "      <td>4.442518</td>\n",
       "      <td>Polyhedral</td>\n",
       "    </tr>\n",
       "  </tbody>\n",
       "</table>\n",
       "<p>5 rows × 215 columns</p>\n",
       "</div>"
      ],
      "text/plain": [
       "        Solvent name           SMILE       apol  ast_fraglike  \\\n",
       "0            Toluene       Cc1ccccc2  17.654345             1   \n",
       "1     Methyl acetate        O=C(OC)C  10.884758             1   \n",
       "2         2-Propanol          OC(C)C  11.416344             1   \n",
       "3      Ethyl acetate       O=C(OCC)C  13.978344             1   \n",
       "4  Trichloroethylene  Cl/C(/Cl)=C\\Cl  10.726793             1   \n",
       "\n",
       "   ast_fraglike_ext  ast_violation  ast_violation_ext  a_acc  a_acid  a_aro  \\\n",
       "0                 1              0                  0      0       0      6   \n",
       "1                 1              0                  0      1       0      0   \n",
       "2                 1              0                  0      1       0      0   \n",
       "3                 1              0                  0      1       0      0   \n",
       "4                 1              0                  0      0       0      0   \n",
       "\n",
       "   ...  weinerPath  weinerPol  zagreb     BP    MP  Density_g-mL  Sol_25c  \\\n",
       "0  ...          42          5      30  110.6 -95.0         0.867     0.92   \n",
       "1  ...          18          2      16   56.9 -98.0         0.932    10.71   \n",
       "2  ...           9          0      12   82.5 -89.0         0.790     5.97   \n",
       "3  ...          32          3      20   77.1 -83.6         0.894     9.61   \n",
       "4  ...          18          2      16   74.0 -33.0         1.460     2.50   \n",
       "\n",
       "         SS  Conc_mg-mL   CrysShape  \n",
       "0  2.717391    2.500000      Needle  \n",
       "1  1.832356   19.624536      Needle  \n",
       "2  1.487584    8.880879      Needle  \n",
       "3  1.989156   19.115788  Polyhedral  \n",
       "4  1.777007    4.442518  Polyhedral  \n",
       "\n",
       "[5 rows x 215 columns]"
      ]
     },
     "execution_count": 2,
     "metadata": {},
     "output_type": "execute_result"
    }
   ],
   "source": [
    "#Dataset.drop(Dataset.iloc[:, 26:76], inplace = True, axis = 1)\n",
    "\n",
    "#pd.set_option('display.max_columns', 10)\n",
    "\n",
    "Dataset.head()"
   ]
  },
  {
   "cell_type": "code",
   "execution_count": 3,
   "id": "ed9dfb18",
   "metadata": {},
   "outputs": [
    {
     "name": "stdout",
     "output_type": "stream",
     "text": [
      "(164, 215)\n"
     ]
    }
   ],
   "source": [
    "print(Dataset.shape)"
   ]
  },
  {
   "cell_type": "code",
   "execution_count": 4,
   "id": "b7b0edc6",
   "metadata": {},
   "outputs": [],
   "source": [
    "# Use numpy to convert to arrays\n",
    "import numpy as np\n",
    "# outcomes are the values we want to predict\n",
    "outcomes = np.array(Dataset['CrysShape'])\n",
    "# Remove the outcomes from the parameters (data needed for making the prediction)\n",
    "# axis 1 refers to the columns\n",
    "features = Dataset.drop(['Solvent name', 'SMILE', 'Conc_mg-mL', 'CrysShape'], axis = 1)\n",
    "# Saving feature names for later use\n",
    "features_list = list(features.columns)\n",
    "# Convert to numpy array\n",
    "features_list = np.array(features_list)"
   ]
  },
  {
   "cell_type": "markdown",
   "id": "e7362191",
   "metadata": {},
   "source": [
    "# train/test split (75/25)"
   ]
  },
  {
   "cell_type": "code",
   "execution_count": 5,
   "id": "97652475",
   "metadata": {},
   "outputs": [
    {
     "name": "stdout",
     "output_type": "stream",
     "text": [
      "minimal accuracy = 0.8536585365853658\n",
      "maximal accuracy = 1.0\n",
      "mean accuracy = 0.9375609756097562\n",
      "SD = 0.03845932359888198\n"
     ]
    }
   ],
   "source": [
    "from sklearn.model_selection import train_test_split\n",
    "from sklearn.ensemble import RandomForestClassifier\n",
    "from sklearn import metrics\n",
    "\n",
    "x = features\n",
    "y = outcomes\n",
    "\n",
    "acc_array = list()\n",
    "clf_array = list()\n",
    "xy_array = list()\n",
    "\n",
    "for i in range(100):\n",
    "    \n",
    "    x_train, x_test, y_train, y_test = train_test_split(x, y, test_size=0.25)\n",
    "        \n",
    "    clf = RandomForestClassifier(n_estimators=100, random_state=0)\n",
    "    clf.fit(x_train, y_train)\n",
    "    y_pred = clf.predict(x_test)\n",
    "    \n",
    "    #calculate accuracy of the model\n",
    "    acc = metrics.accuracy_score(y_test, y_pred)\n",
    "    \n",
    "    acc_array.append(acc)\n",
    "    clf_array.append(clf)\n",
    "    xy_array.append([x_train, x_test, y_train, y_test])\n",
    "    \n",
    "#print('Accuracy: ', acc)   \n",
    "print('minimal accuracy =', np.min(acc_array))\n",
    "print('maximal accuracy =', np.max(acc_array))\n",
    "print('mean accuracy =', np.mean(acc_array))\n",
    "print('SD =', np.std(acc_array))"
   ]
  },
  {
   "cell_type": "markdown",
   "id": "2f0cec07",
   "metadata": {},
   "source": [
    "# 4-fold Cross-validation"
   ]
  },
  {
   "cell_type": "code",
   "execution_count": 6,
   "id": "f9e611bc",
   "metadata": {},
   "outputs": [],
   "source": [
    "# Necessary imports: \n",
    "from sklearn.model_selection import cross_val_score, cross_val_predict\n",
    "from sklearn import metrics"
   ]
  },
  {
   "cell_type": "code",
   "execution_count": 7,
   "id": "bb6a8565",
   "metadata": {},
   "outputs": [
    {
     "name": "stdout",
     "output_type": "stream",
     "text": [
      "Cross-validated scores: [0.92682927 0.95121951 1.         0.85365854]\n",
      "average accuracy from 4-fold CV: 0.9329268292682926\n",
      "standard deviation of accuracy: 0.05280642706002675\n"
     ]
    }
   ],
   "source": [
    "# Perform 4-fold cross validation\n",
    "scores = cross_val_score(clf.fit(x_train, y_train), x, y, cv=4)\n",
    "print ('Cross-validated scores:', scores)\n",
    "print(\"average accuracy from 4-fold CV:\", np.mean(scores))\n",
    "print(\"standard deviation of accuracy:\", np.std(scores))"
   ]
  },
  {
   "cell_type": "markdown",
   "id": "c9c74baf",
   "metadata": {},
   "source": [
    "# Confusion matrix"
   ]
  },
  {
   "cell_type": "code",
   "execution_count": 8,
   "id": "9aa97137",
   "metadata": {},
   "outputs": [
    {
     "name": "stdout",
     "output_type": "stream",
     "text": [
      "[[22  0]\n",
      " [ 3 16]]\n"
     ]
    }
   ],
   "source": [
    "#confusion matrix\n",
    "from sklearn.metrics import confusion_matrix\n",
    "conf_mat = confusion_matrix(y_test, y_pred)\n",
    "print(conf_mat)"
   ]
  },
  {
   "cell_type": "code",
   "execution_count": 9,
   "id": "847507cd",
   "metadata": {},
   "outputs": [
    {
     "name": "stdout",
     "output_type": "stream",
     "text": [
      "              precision    recall  f1-score   support\n",
      "\n",
      "      Needle       0.88      1.00      0.94        22\n",
      "  Polyhedral       1.00      0.84      0.91        19\n",
      "\n",
      "    accuracy                           0.93        41\n",
      "   macro avg       0.94      0.92      0.93        41\n",
      "weighted avg       0.94      0.93      0.93        41\n",
      "\n"
     ]
    }
   ],
   "source": [
    "#precision and recall\n",
    "from sklearn.metrics import classification_report\n",
    "print(classification_report(y_test, y_pred))"
   ]
  },
  {
   "cell_type": "code",
   "execution_count": 10,
   "id": "636d13f3",
   "metadata": {},
   "outputs": [
    {
     "data": {
      "image/png": "[encoded data removed]",
      "text/plain": [
       "<Figure size 432x288 with 2 Axes>"
      ]
     },
     "metadata": {
      "needs_background": "light"
     },
     "output_type": "display_data"
    }
   ],
   "source": [
    "# Visualize it as a heatmap\n",
    "import matplotlib.pyplot as plt\n",
    "import seaborn\n",
    "seaborn.heatmap(conf_mat)\n",
    "plt.show()"
   ]
  },
  {
   "cell_type": "markdown",
   "id": "c573c623",
   "metadata": {},
   "source": [
    "# train/test split (80/20)"
   ]
  },
  {
   "cell_type": "code",
   "execution_count": 11,
   "id": "8f966ca5",
   "metadata": {},
   "outputs": [
    {
     "name": "stdout",
     "output_type": "stream",
     "text": [
      "minimal accuracy = 0.8181818181818182\n",
      "maximal accuracy = 1.0\n",
      "mean accuracy = 0.9360606060606059\n",
      "SD = 0.042832451674368326\n"
     ]
    }
   ],
   "source": [
    "from sklearn.model_selection import train_test_split\n",
    "from sklearn.ensemble import RandomForestClassifier\n",
    "from sklearn import metrics\n",
    "\n",
    "x = features\n",
    "y = outcomes\n",
    "\n",
    "acc_array = list()\n",
    "clf_array = list()\n",
    "xy_array = list()\n",
    "\n",
    "for i in range(100):\n",
    "    \n",
    "    x_train, x_test, y_train, y_test = train_test_split(x, y, test_size=0.20)\n",
    "        \n",
    "    clf = RandomForestClassifier(n_estimators=100, random_state=0)\n",
    "    clf.fit(x_train, y_train)\n",
    "    y_pred = clf.predict(x_test)\n",
    "    \n",
    "    #calculate accuracy of the model\n",
    "    acc = metrics.accuracy_score(y_test, y_pred)\n",
    "    \n",
    "    acc_array.append(acc)\n",
    "    clf_array.append(clf)\n",
    "    xy_array.append([x_train, x_test, y_train, y_test])\n",
    "    \n",
    "#print('Accuracy: ', acc)   \n",
    "print('minimal accuracy =', np.min(acc_array))\n",
    "print('maximal accuracy =', np.max(acc_array))\n",
    "print('mean accuracy =', np.mean(acc_array))\n",
    "print('SD =', np.std(acc_array))"
   ]
  },
  {
   "cell_type": "markdown",
   "id": "4393c08c",
   "metadata": {},
   "source": [
    "# 5-fold Cross-validation"
   ]
  },
  {
   "cell_type": "code",
   "execution_count": 12,
   "id": "220280ce",
   "metadata": {},
   "outputs": [
    {
     "name": "stdout",
     "output_type": "stream",
     "text": [
      "Cross-validated scores: [0.90909091 0.96969697 0.93939394 1.         0.8125    ]\n",
      "average accuracy from 5-fold CV: 0.9261363636363636\n",
      "standard deviation of accuracy: 0.0643939393939394\n"
     ]
    }
   ],
   "source": [
    "# Perform 5-fold cross validation\n",
    "scores = cross_val_score(clf.fit(x_train, y_train), x, y, cv=5)\n",
    "print ('Cross-validated scores:', scores)\n",
    "print(\"average accuracy from 5-fold CV:\", np.mean(scores))\n",
    "print(\"standard deviation of accuracy:\", np.std(scores))"
   ]
  },
  {
   "cell_type": "markdown",
   "id": "f37d6952",
   "metadata": {},
   "source": [
    "# Confusion matrix"
   ]
  },
  {
   "cell_type": "code",
   "execution_count": 13,
   "id": "311cc4c2",
   "metadata": {},
   "outputs": [
    {
     "name": "stdout",
     "output_type": "stream",
     "text": [
      "[[15  1]\n",
      " [ 3 14]]\n"
     ]
    }
   ],
   "source": [
    "#confusion matrix\n",
    "from sklearn.metrics import confusion_matrix\n",
    "conf_mat = confusion_matrix(y_test, y_pred)\n",
    "print(conf_mat)"
   ]
  },
  {
   "cell_type": "code",
   "execution_count": 14,
   "id": "6c1eeed0",
   "metadata": {},
   "outputs": [
    {
     "name": "stdout",
     "output_type": "stream",
     "text": [
      "              precision    recall  f1-score   support\n",
      "\n",
      "      Needle       0.83      0.94      0.88        16\n",
      "  Polyhedral       0.93      0.82      0.87        17\n",
      "\n",
      "    accuracy                           0.88        33\n",
      "   macro avg       0.88      0.88      0.88        33\n",
      "weighted avg       0.88      0.88      0.88        33\n",
      "\n"
     ]
    }
   ],
   "source": [
    "#precision and recall\n",
    "from sklearn.metrics import classification_report\n",
    "print(classification_report(y_test, y_pred))"
   ]
  },
  {
   "cell_type": "code",
   "execution_count": 15,
   "id": "2e37689b",
   "metadata": {},
   "outputs": [
    {
     "data": {
      "image/png": "[encoded data removed]",
      "text/plain": [
       "<Figure size 432x288 with 2 Axes>"
      ]
     },
     "metadata": {
      "needs_background": "light"
     },
     "output_type": "display_data"
    }
   ],
   "source": [
    "# Visualize it as a heatmap\n",
    "import matplotlib.pyplot as plt\n",
    "import seaborn\n",
    "seaborn.heatmap(conf_mat)\n",
    "plt.show()"
   ]
  },
  {
   "cell_type": "markdown",
   "id": "6c269c42",
   "metadata": {},
   "source": [
    "# train/test split (90/10)"
   ]
  },
  {
   "cell_type": "code",
   "execution_count": 16,
   "id": "3c5154d6",
   "metadata": {},
   "outputs": [
    {
     "name": "stdout",
     "output_type": "stream",
     "text": [
      "minimal accuracy = 0.8235294117647058\n",
      "maximal accuracy = 1.0\n",
      "mean accuracy = 0.9547058823529412\n",
      "SD = 0.04695208483013502\n"
     ]
    }
   ],
   "source": [
    "from sklearn.model_selection import train_test_split\n",
    "from sklearn.ensemble import RandomForestClassifier\n",
    "from sklearn import metrics\n",
    "\n",
    "x = features\n",
    "y = outcomes\n",
    "\n",
    "acc_array = list()\n",
    "clf_array = list()\n",
    "xy_array = list()\n",
    "\n",
    "for i in range(100):\n",
    "    \n",
    "    x_train, x_test, y_train, y_test = train_test_split(x, y, test_size=0.10)\n",
    "        \n",
    "    clf = RandomForestClassifier(n_estimators=100, random_state=0)\n",
    "    clf.fit(x_train, y_train)\n",
    "    y_pred = clf.predict(x_test)\n",
    "    \n",
    "    #calculate accuracy of the model\n",
    "    acc = metrics.accuracy_score(y_test, y_pred)\n",
    "    \n",
    "    acc_array.append(acc)\n",
    "    clf_array.append(clf)\n",
    "    xy_array.append([x_train, x_test, y_train, y_test])\n",
    "    \n",
    "#print('Accuracy: ', acc)   \n",
    "print('minimal accuracy =', np.min(acc_array))\n",
    "print('maximal accuracy =', np.max(acc_array))\n",
    "print('mean accuracy =', np.mean(acc_array))\n",
    "print('SD =', np.std(acc_array))"
   ]
  },
  {
   "cell_type": "markdown",
   "id": "a8d80d16",
   "metadata": {},
   "source": [
    "# 10-fold Cross-validation"
   ]
  },
  {
   "cell_type": "code",
   "execution_count": 17,
   "id": "18850e59",
   "metadata": {},
   "outputs": [
    {
     "name": "stdout",
     "output_type": "stream",
     "text": [
      "Cross-validated scores: [1.         0.88235294 0.94117647 1.         0.875      1.\n",
      " 1.         1.         0.9375     0.9375    ]\n",
      "average accuracy from 10-fold CV: 0.9573529411764706\n",
      "standard deviation of accuracy: 0.04748770556608095\n"
     ]
    }
   ],
   "source": [
    "# Perform 10-fold cross validation\n",
    "scores = cross_val_score(clf.fit(x_train, y_train), x, y, cv=10)\n",
    "print ('Cross-validated scores:', scores)\n",
    "print(\"average accuracy from 10-fold CV:\", np.mean(scores))\n",
    "print(\"standard deviation of accuracy:\", np.std(scores))"
   ]
  },
  {
   "cell_type": "markdown",
   "id": "8044a887",
   "metadata": {},
   "source": [
    "# Confusion matrix"
   ]
  },
  {
   "cell_type": "code",
   "execution_count": 18,
   "id": "c05773f2",
   "metadata": {},
   "outputs": [
    {
     "name": "stdout",
     "output_type": "stream",
     "text": [
      "[[ 4  2]\n",
      " [ 0 11]]\n"
     ]
    }
   ],
   "source": [
    "#confusion matrix\n",
    "from sklearn.metrics import confusion_matrix\n",
    "conf_mat = confusion_matrix(y_test, y_pred)\n",
    "print(conf_mat)"
   ]
  },
  {
   "cell_type": "code",
   "execution_count": 19,
   "id": "b17fa5c2",
   "metadata": {},
   "outputs": [
    {
     "name": "stdout",
     "output_type": "stream",
     "text": [
      "              precision    recall  f1-score   support\n",
      "\n",
      "      Needle       1.00      0.67      0.80         6\n",
      "  Polyhedral       0.85      1.00      0.92        11\n",
      "\n",
      "    accuracy                           0.88        17\n",
      "   macro avg       0.92      0.83      0.86        17\n",
      "weighted avg       0.90      0.88      0.88        17\n",
      "\n"
     ]
    }
   ],
   "source": [
    "#precision and recall\n",
    "from sklearn.metrics import classification_report\n",
    "print(classification_report(y_test, y_pred))"
   ]
  },
  {
   "cell_type": "code",
   "execution_count": 20,
   "id": "5aa875a3",
   "metadata": {},
   "outputs": [
    {
     "data": {
      "image/png": "[encoded data removed]",
      "text/plain": [
       "<Figure size 432x288 with 2 Axes>"
      ]
     },
     "metadata": {
      "needs_background": "light"
     },
     "output_type": "display_data"
    }
   ],
   "source": [
    "# Visualize it as a heatmap\n",
    "import matplotlib.pyplot as plt\n",
    "import seaborn\n",
    "seaborn.heatmap(conf_mat)\n",
    "plt.show()"
   ]
  }
 ],
 "metadata": {
  "kernelspec": {
   "display_name": "Python 3",
   "language": "python",
   "name": "python3"
  },
  "language_info": {
   "codemirror_mode": {
    "name": "ipython",
    "version": 3
   },
   "file_extension": ".py",
   "mimetype": "text/x-python",
   "name": "python",
   "nbconvert_exporter": "python",
   "pygments_lexer": "ipython3",
   "version": "3.8.8"
  }
 },
 "nbformat": 4,
 "nbformat_minor": 5
}
