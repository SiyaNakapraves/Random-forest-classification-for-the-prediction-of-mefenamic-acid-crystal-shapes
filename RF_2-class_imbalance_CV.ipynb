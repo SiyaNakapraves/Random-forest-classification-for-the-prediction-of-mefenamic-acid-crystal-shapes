{
 "cells": [
  {
   "cell_type": "code",
   "execution_count": 1,
   "id": "edd0533f",
   "metadata": {},
   "outputs": [],
   "source": [
    "import pandas as pd\n",
    "\n",
    "Dataset = pd.read_excel(r'C:/Users/kqb18171/OneDrive - University of Strathclyde/Crystal shape prediction chapter/Crystal_Shape_Classification.xlsx', sheet_name='2-class_imbalanced_rand')"
   ]
  },
  {
   "cell_type": "code",
   "execution_count": 2,
   "id": "bc7120b5",
   "metadata": {},
   "outputs": [
    {
     "data": {
      "text/html": [
       "<div>\n",
       "<style scoped>\n",
       "    .dataframe tbody tr th:only-of-type {\n",
       "        vertical-align: middle;\n",
       "    }\n",
       "\n",
       "    .dataframe tbody tr th {\n",
       "        vertical-align: top;\n",
       "    }\n",
       "\n",
       "    .dataframe thead th {\n",
       "        text-align: right;\n",
       "    }\n",
       "</style>\n",
       "<table border=\"1\" class=\"dataframe\">\n",
       "  <thead>\n",
       "    <tr style=\"text-align: right;\">\n",
       "      <th></th>\n",
       "      <th>Solvent name</th>\n",
       "      <th>SMILE</th>\n",
       "      <th>apol</th>\n",
       "      <th>ast_fraglike</th>\n",
       "      <th>ast_fraglike_ext</th>\n",
       "      <th>ast_violation</th>\n",
       "      <th>ast_violation_ext</th>\n",
       "      <th>a_acc</th>\n",
       "      <th>a_acid</th>\n",
       "      <th>a_aro</th>\n",
       "      <th>...</th>\n",
       "      <th>weinerPath</th>\n",
       "      <th>weinerPol</th>\n",
       "      <th>zagreb</th>\n",
       "      <th>BP</th>\n",
       "      <th>MP</th>\n",
       "      <th>Density_g-mL</th>\n",
       "      <th>Sol_25c</th>\n",
       "      <th>SS</th>\n",
       "      <th>Conc_mg-mL</th>\n",
       "      <th>CrysShape</th>\n",
       "    </tr>\n",
       "  </thead>\n",
       "  <tbody>\n",
       "    <tr>\n",
       "      <th>0</th>\n",
       "      <td>Acetone</td>\n",
       "      <td>O=C(C)C</td>\n",
       "      <td>10.082758</td>\n",
       "      <td>1</td>\n",
       "      <td>1</td>\n",
       "      <td>0</td>\n",
       "      <td>0</td>\n",
       "      <td>1</td>\n",
       "      <td>0</td>\n",
       "      <td>0</td>\n",
       "      <td>...</td>\n",
       "      <td>9</td>\n",
       "      <td>0</td>\n",
       "      <td>12</td>\n",
       "      <td>56.0</td>\n",
       "      <td>-95.0</td>\n",
       "      <td>0.780</td>\n",
       "      <td>16.71</td>\n",
       "      <td>1.517230</td>\n",
       "      <td>25.352907</td>\n",
       "      <td>Polyhedral</td>\n",
       "    </tr>\n",
       "    <tr>\n",
       "      <th>1</th>\n",
       "      <td>Triethylamine</td>\n",
       "      <td>N(CC)(CC)CC</td>\n",
       "      <td>21.661896</td>\n",
       "      <td>1</td>\n",
       "      <td>1</td>\n",
       "      <td>0</td>\n",
       "      <td>0</td>\n",
       "      <td>1</td>\n",
       "      <td>0</td>\n",
       "      <td>0</td>\n",
       "      <td>...</td>\n",
       "      <td>48</td>\n",
       "      <td>6</td>\n",
       "      <td>24</td>\n",
       "      <td>89.0</td>\n",
       "      <td>-114.7</td>\n",
       "      <td>0.726</td>\n",
       "      <td>3.35</td>\n",
       "      <td>1.784985</td>\n",
       "      <td>5.979699</td>\n",
       "      <td>Polyhedral</td>\n",
       "    </tr>\n",
       "    <tr>\n",
       "      <th>2</th>\n",
       "      <td>1,4-Dioxane</td>\n",
       "      <td>O1CCOCC1</td>\n",
       "      <td>13.978344</td>\n",
       "      <td>1</td>\n",
       "      <td>1</td>\n",
       "      <td>0</td>\n",
       "      <td>0</td>\n",
       "      <td>2</td>\n",
       "      <td>0</td>\n",
       "      <td>0</td>\n",
       "      <td>...</td>\n",
       "      <td>27</td>\n",
       "      <td>3</td>\n",
       "      <td>24</td>\n",
       "      <td>101.0</td>\n",
       "      <td>11.8</td>\n",
       "      <td>1.030</td>\n",
       "      <td>63.18</td>\n",
       "      <td>1.482199</td>\n",
       "      <td>93.645351</td>\n",
       "      <td>Needle</td>\n",
       "    </tr>\n",
       "    <tr>\n",
       "      <th>3</th>\n",
       "      <td>DMF</td>\n",
       "      <td>O=CN(C)C</td>\n",
       "      <td>11.849551</td>\n",
       "      <td>1</td>\n",
       "      <td>1</td>\n",
       "      <td>0</td>\n",
       "      <td>0</td>\n",
       "      <td>1</td>\n",
       "      <td>0</td>\n",
       "      <td>0</td>\n",
       "      <td>...</td>\n",
       "      <td>18</td>\n",
       "      <td>2</td>\n",
       "      <td>16</td>\n",
       "      <td>153.0</td>\n",
       "      <td>-61.0</td>\n",
       "      <td>0.940</td>\n",
       "      <td>59.49</td>\n",
       "      <td>1.673997</td>\n",
       "      <td>99.586056</td>\n",
       "      <td>Polyhedral</td>\n",
       "    </tr>\n",
       "    <tr>\n",
       "      <th>4</th>\n",
       "      <td>Methyl acetate</td>\n",
       "      <td>O=C(OC)C</td>\n",
       "      <td>10.884758</td>\n",
       "      <td>1</td>\n",
       "      <td>1</td>\n",
       "      <td>0</td>\n",
       "      <td>0</td>\n",
       "      <td>1</td>\n",
       "      <td>0</td>\n",
       "      <td>0</td>\n",
       "      <td>...</td>\n",
       "      <td>18</td>\n",
       "      <td>2</td>\n",
       "      <td>16</td>\n",
       "      <td>56.9</td>\n",
       "      <td>-98.0</td>\n",
       "      <td>0.932</td>\n",
       "      <td>10.71</td>\n",
       "      <td>1.199538</td>\n",
       "      <td>12.847055</td>\n",
       "      <td>Needle</td>\n",
       "    </tr>\n",
       "  </tbody>\n",
       "</table>\n",
       "<p>5 rows × 215 columns</p>\n",
       "</div>"
      ],
      "text/plain": [
       "     Solvent name        SMILE       apol  ast_fraglike  ast_fraglike_ext  \\\n",
       "0         Acetone      O=C(C)C  10.082758             1                 1   \n",
       "1   Triethylamine  N(CC)(CC)CC  21.661896             1                 1   \n",
       "2     1,4-Dioxane     O1CCOCC1  13.978344             1                 1   \n",
       "3             DMF     O=CN(C)C  11.849551             1                 1   \n",
       "4  Methyl acetate     O=C(OC)C  10.884758             1                 1   \n",
       "\n",
       "   ast_violation  ast_violation_ext  a_acc  a_acid  a_aro  ...  weinerPath  \\\n",
       "0              0                  0      1       0      0  ...           9   \n",
       "1              0                  0      1       0      0  ...          48   \n",
       "2              0                  0      2       0      0  ...          27   \n",
       "3              0                  0      1       0      0  ...          18   \n",
       "4              0                  0      1       0      0  ...          18   \n",
       "\n",
       "   weinerPol  zagreb     BP     MP  Density_g-mL  Sol_25c        SS  \\\n",
       "0          0      12   56.0  -95.0         0.780    16.71  1.517230   \n",
       "1          6      24   89.0 -114.7         0.726     3.35  1.784985   \n",
       "2          3      24  101.0   11.8         1.030    63.18  1.482199   \n",
       "3          2      16  153.0  -61.0         0.940    59.49  1.673997   \n",
       "4          2      16   56.9  -98.0         0.932    10.71  1.199538   \n",
       "\n",
       "   Conc_mg-mL   CrysShape  \n",
       "0   25.352907  Polyhedral  \n",
       "1    5.979699  Polyhedral  \n",
       "2   93.645351      Needle  \n",
       "3   99.586056  Polyhedral  \n",
       "4   12.847055      Needle  \n",
       "\n",
       "[5 rows x 215 columns]"
      ]
     },
     "execution_count": 2,
     "metadata": {},
     "output_type": "execute_result"
    }
   ],
   "source": [
    "#Dataset.drop(Dataset.iloc[:, 26:76], inplace = True, axis = 1)\n",
    "\n",
    "#pd.set_option('display.max_columns', 10)\n",
    "\n",
    "Dataset.head()"
   ]
  },
  {
   "cell_type": "code",
   "execution_count": 3,
   "id": "ed9dfb18",
   "metadata": {},
   "outputs": [
    {
     "name": "stdout",
     "output_type": "stream",
     "text": [
      "(216, 215)\n"
     ]
    }
   ],
   "source": [
    "print(Dataset.shape)"
   ]
  },
  {
   "cell_type": "code",
   "execution_count": 4,
   "id": "b7b0edc6",
   "metadata": {},
   "outputs": [],
   "source": [
    "# Use numpy to convert to arrays\n",
    "import numpy as np\n",
    "# outcomes are the values we want to predict\n",
    "outcomes = np.array(Dataset['CrysShape'])\n",
    "# Remove the outcomes from the parameters (data needed for making the prediction)\n",
    "# axis 1 refers to the columns\n",
    "features = Dataset.drop(['Solvent name', 'SMILE', 'Conc_mg-mL', 'CrysShape'], axis = 1)\n",
    "# Saving feature names for later use\n",
    "features_list = list(features.columns)\n",
    "# Convert to numpy array\n",
    "features_list = np.array(features_list)"
   ]
  },
  {
   "cell_type": "markdown",
   "id": "e7362191",
   "metadata": {},
   "source": [
    "# train/test split (75/25)"
   ]
  },
  {
   "cell_type": "code",
   "execution_count": 5,
   "id": "97652475",
   "metadata": {},
   "outputs": [
    {
     "name": "stdout",
     "output_type": "stream",
     "text": [
      "minimal accuracy = 0.8148148148148148\n",
      "maximal accuracy = 0.9814814814814815\n",
      "mean accuracy = 0.9177777777777778\n",
      "SD = 0.03274375719303754\n"
     ]
    }
   ],
   "source": [
    "from sklearn.model_selection import train_test_split\n",
    "from sklearn.ensemble import RandomForestClassifier\n",
    "from sklearn import metrics\n",
    "\n",
    "x = features\n",
    "y = outcomes\n",
    "\n",
    "acc_array = list()\n",
    "clf_array = list()\n",
    "xy_array = list()\n",
    "\n",
    "for i in range(100):\n",
    "    \n",
    "    x_train, x_test, y_train, y_test = train_test_split(x, y, test_size=0.25)\n",
    "        \n",
    "    clf = RandomForestClassifier(n_estimators=100, random_state=0)\n",
    "    clf.fit(x_train, y_train)\n",
    "    y_pred = clf.predict(x_test)\n",
    "    \n",
    "    #calculate accuracy of the model\n",
    "    acc = metrics.accuracy_score(y_test, y_pred)\n",
    "    \n",
    "    acc_array.append(acc)\n",
    "    clf_array.append(clf)\n",
    "    xy_array.append([x_train, x_test, y_train, y_test])\n",
    "    \n",
    "#print('Accuracy: ', acc)   \n",
    "print('minimal accuracy =', np.min(acc_array))\n",
    "print('maximal accuracy =', np.max(acc_array))\n",
    "print('mean accuracy =', np.mean(acc_array))\n",
    "print('SD =', np.std(acc_array))"
   ]
  },
  {
   "cell_type": "markdown",
   "id": "2f0cec07",
   "metadata": {},
   "source": [
    "# 4-fold Cross-validation"
   ]
  },
  {
   "cell_type": "code",
   "execution_count": 6,
   "id": "f9e611bc",
   "metadata": {},
   "outputs": [],
   "source": [
    "# Necessary imports: \n",
    "from sklearn.model_selection import cross_val_score, cross_val_predict\n",
    "from sklearn import metrics"
   ]
  },
  {
   "cell_type": "code",
   "execution_count": 7,
   "id": "bb6a8565",
   "metadata": {},
   "outputs": [
    {
     "name": "stdout",
     "output_type": "stream",
     "text": [
      "Cross-validated scores: [0.94444444 0.92592593 0.96296296 0.90740741]\n",
      "average accuracy from 4-fold CV: 0.9351851851851851\n",
      "standard deviation of accuracy: 0.02070433312499802\n"
     ]
    }
   ],
   "source": [
    "# Perform 4-fold cross validation\n",
    "scores = cross_val_score(clf.fit(x_train, y_train), x, y, cv=4)\n",
    "print ('Cross-validated scores:', scores)\n",
    "print(\"average accuracy from 4-fold CV:\", np.mean(scores))\n",
    "print(\"standard deviation of accuracy:\", np.std(scores))"
   ]
  },
  {
   "cell_type": "markdown",
   "id": "c9c74baf",
   "metadata": {},
   "source": [
    "# Confusion matrix"
   ]
  },
  {
   "cell_type": "code",
   "execution_count": 8,
   "id": "9aa97137",
   "metadata": {},
   "outputs": [
    {
     "name": "stdout",
     "output_type": "stream",
     "text": [
      "[[20  3]\n",
      " [ 0 31]]\n"
     ]
    }
   ],
   "source": [
    "#confusion matrix\n",
    "from sklearn.metrics import confusion_matrix\n",
    "conf_mat = confusion_matrix(y_test, y_pred)\n",
    "print(conf_mat)"
   ]
  },
  {
   "cell_type": "code",
   "execution_count": 9,
   "id": "847507cd",
   "metadata": {},
   "outputs": [
    {
     "name": "stdout",
     "output_type": "stream",
     "text": [
      "              precision    recall  f1-score   support\n",
      "\n",
      "      Needle       1.00      0.87      0.93        23\n",
      "  Polyhedral       0.91      1.00      0.95        31\n",
      "\n",
      "    accuracy                           0.94        54\n",
      "   macro avg       0.96      0.93      0.94        54\n",
      "weighted avg       0.95      0.94      0.94        54\n",
      "\n"
     ]
    }
   ],
   "source": [
    "#precision and recall\n",
    "from sklearn.metrics import classification_report\n",
    "print(classification_report(y_test, y_pred))"
   ]
  },
  {
   "cell_type": "code",
   "execution_count": 10,
   "id": "636d13f3",
   "metadata": {},
   "outputs": [
    {
     "data": {
      "image/png": "[encoded data removed]",
      "text/plain": [
       "<Figure size 432x288 with 2 Axes>"
      ]
     },
     "metadata": {
      "needs_background": "light"
     },
     "output_type": "display_data"
    }
   ],
   "source": [
    "# Visualize it as a heatmap\n",
    "import matplotlib.pyplot as plt\n",
    "import seaborn\n",
    "seaborn.heatmap(conf_mat)\n",
    "plt.show()"
   ]
  },
  {
   "cell_type": "markdown",
   "id": "c573c623",
   "metadata": {},
   "source": [
    "# train/test split (80/20)"
   ]
  },
  {
   "cell_type": "code",
   "execution_count": 11,
   "id": "8f966ca5",
   "metadata": {},
   "outputs": [
    {
     "name": "stdout",
     "output_type": "stream",
     "text": [
      "minimal accuracy = 0.8181818181818182\n",
      "maximal accuracy = 0.9772727272727273\n",
      "mean accuracy = 0.9206818181818183\n",
      "SD = 0.03571798977250022\n"
     ]
    }
   ],
   "source": [
    "from sklearn.model_selection import train_test_split\n",
    "from sklearn.ensemble import RandomForestClassifier\n",
    "from sklearn import metrics\n",
    "\n",
    "x = features\n",
    "y = outcomes\n",
    "\n",
    "acc_array = list()\n",
    "clf_array = list()\n",
    "xy_array = list()\n",
    "\n",
    "for i in range(100):\n",
    "    \n",
    "    x_train, x_test, y_train, y_test = train_test_split(x, y, test_size=0.20)\n",
    "        \n",
    "    clf = RandomForestClassifier(n_estimators=100, random_state=0)\n",
    "    clf.fit(x_train, y_train)\n",
    "    y_pred = clf.predict(x_test)\n",
    "    \n",
    "    #calculate accuracy of the model\n",
    "    acc = metrics.accuracy_score(y_test, y_pred)\n",
    "    \n",
    "    acc_array.append(acc)\n",
    "    clf_array.append(clf)\n",
    "    xy_array.append([x_train, x_test, y_train, y_test])\n",
    "    \n",
    "#print('Accuracy: ', acc)   \n",
    "print('minimal accuracy =', np.min(acc_array))\n",
    "print('maximal accuracy =', np.max(acc_array))\n",
    "print('mean accuracy =', np.mean(acc_array))\n",
    "print('SD =', np.std(acc_array))"
   ]
  },
  {
   "cell_type": "markdown",
   "id": "4393c08c",
   "metadata": {},
   "source": [
    "# 5-fold Cross-validation"
   ]
  },
  {
   "cell_type": "code",
   "execution_count": 12,
   "id": "220280ce",
   "metadata": {},
   "outputs": [
    {
     "name": "stdout",
     "output_type": "stream",
     "text": [
      "Cross-validated scores: [0.95454545 0.97674419 0.93023256 0.90697674 0.95348837]\n",
      "average accuracy from 5-fold CV: 0.9443974630021141\n",
      "standard deviation of accuracy: 0.02380290561528554\n"
     ]
    }
   ],
   "source": [
    "# Perform 5-fold cross validation\n",
    "scores = cross_val_score(clf.fit(x_train, y_train), x, y, cv=5)\n",
    "print ('Cross-validated scores:', scores)\n",
    "print(\"average accuracy from 5-fold CV:\", np.mean(scores))\n",
    "print(\"standard deviation of accuracy:\", np.std(scores))"
   ]
  },
  {
   "cell_type": "markdown",
   "id": "f37d6952",
   "metadata": {},
   "source": [
    "# Confusion matrix"
   ]
  },
  {
   "cell_type": "code",
   "execution_count": 13,
   "id": "311cc4c2",
   "metadata": {},
   "outputs": [
    {
     "name": "stdout",
     "output_type": "stream",
     "text": [
      "[[16  1]\n",
      " [ 3 24]]\n"
     ]
    }
   ],
   "source": [
    "#confusion matrix\n",
    "from sklearn.metrics import confusion_matrix\n",
    "conf_mat = confusion_matrix(y_test, y_pred)\n",
    "print(conf_mat)"
   ]
  },
  {
   "cell_type": "code",
   "execution_count": 14,
   "id": "6c1eeed0",
   "metadata": {},
   "outputs": [
    {
     "name": "stdout",
     "output_type": "stream",
     "text": [
      "              precision    recall  f1-score   support\n",
      "\n",
      "      Needle       0.84      0.94      0.89        17\n",
      "  Polyhedral       0.96      0.89      0.92        27\n",
      "\n",
      "    accuracy                           0.91        44\n",
      "   macro avg       0.90      0.92      0.91        44\n",
      "weighted avg       0.91      0.91      0.91        44\n",
      "\n"
     ]
    }
   ],
   "source": [
    "#precision and recall\n",
    "from sklearn.metrics import classification_report\n",
    "print(classification_report(y_test, y_pred))"
   ]
  },
  {
   "cell_type": "code",
   "execution_count": 15,
   "id": "2e37689b",
   "metadata": {},
   "outputs": [
    {
     "data": {
      "image/png": "[encoded data removed]",
      "text/plain": [
       "<Figure size 432x288 with 2 Axes>"
      ]
     },
     "metadata": {
      "needs_background": "light"
     },
     "output_type": "display_data"
    }
   ],
   "source": [
    "# Visualize it as a heatmap\n",
    "import matplotlib.pyplot as plt\n",
    "import seaborn\n",
    "seaborn.heatmap(conf_mat)\n",
    "plt.show()"
   ]
  },
  {
   "cell_type": "markdown",
   "id": "6c269c42",
   "metadata": {},
   "source": [
    "# train/test split (90/10)"
   ]
  },
  {
   "cell_type": "code",
   "execution_count": 16,
   "id": "3c5154d6",
   "metadata": {},
   "outputs": [
    {
     "name": "stdout",
     "output_type": "stream",
     "text": [
      "minimal accuracy = 0.7727272727272727\n",
      "maximal accuracy = 1.0\n",
      "mean accuracy = 0.9372727272727271\n",
      "SD = 0.04580771886306955\n"
     ]
    }
   ],
   "source": [
    "from sklearn.model_selection import train_test_split\n",
    "from sklearn.ensemble import RandomForestClassifier\n",
    "from sklearn import metrics\n",
    "\n",
    "x = features\n",
    "y = outcomes\n",
    "\n",
    "acc_array = list()\n",
    "clf_array = list()\n",
    "xy_array = list()\n",
    "\n",
    "for i in range(100):\n",
    "    \n",
    "    x_train, x_test, y_train, y_test = train_test_split(x, y, test_size=0.10)\n",
    "        \n",
    "    clf = RandomForestClassifier(n_estimators=100, random_state=0)\n",
    "    clf.fit(x_train, y_train)\n",
    "    y_pred = clf.predict(x_test)\n",
    "    \n",
    "    #calculate accuracy of the model\n",
    "    acc = metrics.accuracy_score(y_test, y_pred)\n",
    "    \n",
    "    acc_array.append(acc)\n",
    "    clf_array.append(clf)\n",
    "    xy_array.append([x_train, x_test, y_train, y_test])\n",
    "    \n",
    "#print('Accuracy: ', acc)   \n",
    "print('minimal accuracy =', np.min(acc_array))\n",
    "print('maximal accuracy =', np.max(acc_array))\n",
    "print('mean accuracy =', np.mean(acc_array))\n",
    "print('SD =', np.std(acc_array))"
   ]
  },
  {
   "cell_type": "markdown",
   "id": "a8d80d16",
   "metadata": {},
   "source": [
    "# 10-fold Cross-validation"
   ]
  },
  {
   "cell_type": "code",
   "execution_count": 17,
   "id": "18850e59",
   "metadata": {},
   "outputs": [
    {
     "name": "stdout",
     "output_type": "stream",
     "text": [
      "Cross-validated scores: [0.95454545 0.90909091 0.95454545 1.         0.86363636 1.\n",
      " 0.9047619  0.85714286 0.95238095 0.95238095]\n",
      "average accuracy from 10-fold CV: 0.9348484848484849\n",
      "standard deviation of accuracy: 0.04749541210894572\n"
     ]
    }
   ],
   "source": [
    "# Perform 10-fold cross validation\n",
    "scores = cross_val_score(clf.fit(x_train, y_train), x, y, cv=10)\n",
    "print ('Cross-validated scores:', scores)\n",
    "print(\"average accuracy from 10-fold CV:\", np.mean(scores))\n",
    "print(\"standard deviation of accuracy:\", np.std(scores))"
   ]
  },
  {
   "cell_type": "markdown",
   "id": "8044a887",
   "metadata": {},
   "source": [
    "# Confusion matrix"
   ]
  },
  {
   "cell_type": "code",
   "execution_count": 18,
   "id": "c05773f2",
   "metadata": {},
   "outputs": [
    {
     "name": "stdout",
     "output_type": "stream",
     "text": [
      "[[ 7  1]\n",
      " [ 1 13]]\n"
     ]
    }
   ],
   "source": [
    "#confusion matrix\n",
    "from sklearn.metrics import confusion_matrix\n",
    "conf_mat = confusion_matrix(y_test, y_pred)\n",
    "print(conf_mat)"
   ]
  },
  {
   "cell_type": "code",
   "execution_count": 19,
   "id": "b17fa5c2",
   "metadata": {},
   "outputs": [
    {
     "name": "stdout",
     "output_type": "stream",
     "text": [
      "              precision    recall  f1-score   support\n",
      "\n",
      "      Needle       0.88      0.88      0.88         8\n",
      "  Polyhedral       0.93      0.93      0.93        14\n",
      "\n",
      "    accuracy                           0.91        22\n",
      "   macro avg       0.90      0.90      0.90        22\n",
      "weighted avg       0.91      0.91      0.91        22\n",
      "\n"
     ]
    }
   ],
   "source": [
    "#precision and recall\n",
    "from sklearn.metrics import classification_report\n",
    "print(classification_report(y_test, y_pred))"
   ]
  },
  {
   "cell_type": "code",
   "execution_count": 20,
   "id": "5aa875a3",
   "metadata": {},
   "outputs": [
    {
     "data": {
      "image/png": "[encoded data removed]",
      "text/plain": [
       "<Figure size 432x288 with 2 Axes>"
      ]
     },
     "metadata": {
      "needs_background": "light"
     },
     "output_type": "display_data"
    }
   ],
   "source": [
    "# Visualize it as a heatmap\n",
    "import matplotlib.pyplot as plt\n",
    "import seaborn\n",
    "seaborn.heatmap(conf_mat)\n",
    "plt.show()"
   ]
  }
 ],
 "metadata": {
  "kernelspec": {
   "display_name": "Python 3",
   "language": "python",
   "name": "python3"
  },
  "language_info": {
   "codemirror_mode": {
    "name": "ipython",
    "version": 3
   },
   "file_extension": ".py",
   "mimetype": "text/x-python",
   "name": "python",
   "nbconvert_exporter": "python",
   "pygments_lexer": "ipython3",
   "version": "3.8.8"
  }
 },
 "nbformat": 4,
 "nbformat_minor": 5
}
