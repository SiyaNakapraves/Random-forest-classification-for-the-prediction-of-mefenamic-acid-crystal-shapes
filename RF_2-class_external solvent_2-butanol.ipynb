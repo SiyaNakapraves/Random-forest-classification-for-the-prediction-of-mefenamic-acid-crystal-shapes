{
 "cells": [
  {
   "cell_type": "code",
   "execution_count": 1,
   "id": "edd0533f",
   "metadata": {},
   "outputs": [],
   "source": [
    "import pandas as pd\n",
    "\n",
    "train_dataset = pd.read_excel(r'C:/Users/kqb18171/OneDrive - University of Strathclyde/Crystal shape prediction chapter/Crystal_Shape_Classification.xlsx', sheet_name='2-class_train_2butanol')\n",
    "test_dataset = pd.read_excel(r'C:/Users/kqb18171/OneDrive - University of Strathclyde/Crystal shape prediction chapter/Crystal_Shape_Classification.xlsx', sheet_name='2-class_test_2butanol')"
   ]
  },
  {
   "cell_type": "markdown",
   "id": "be7f2198",
   "metadata": {},
   "source": [
    "# Training data"
   ]
  },
  {
   "cell_type": "code",
   "execution_count": 2,
   "id": "b7b0edc6",
   "metadata": {},
   "outputs": [],
   "source": [
    "# Use numpy to convert to arrays\n",
    "import numpy as np\n",
    "# outcomes are the values we want to predict\n",
    "train_outcomes = np.array(train_dataset['CrysShape'])\n",
    "# Remove the outcomes from the parameters (data needed for making the prediction)\n",
    "# axis 1 refers to the columns\n",
    "train_features = train_dataset.drop(['Solvent name', 'SMILE', 'Conc_mg-mL', 'CrysShape'], axis = 1)\n",
    "# Saving feature names for later use\n",
    "train_features_list = list(train_features.columns)\n",
    "# Convert to numpy array\n",
    "train_features_list = np.array(train_features_list)"
   ]
  },
  {
   "cell_type": "markdown",
   "id": "94191629",
   "metadata": {},
   "source": [
    "# Test data"
   ]
  },
  {
   "cell_type": "code",
   "execution_count": 3,
   "id": "c6786ee6",
   "metadata": {},
   "outputs": [],
   "source": [
    "# Use numpy to convert to arrays\n",
    "import numpy as np\n",
    "# outcomes are the values we want to predict\n",
    "test_outcomes = np.array(test_dataset['CrysShape'])\n",
    "# Remove the outcomes from the parameters (data needed for making the prediction)\n",
    "# axis 1 refers to the columns\n",
    "test_features = test_dataset.drop(['Solvent name', 'SMILE', 'Conc_mg-mL', 'CrysShape'], axis = 1)\n",
    "# Saving feature names for later use\n",
    "test_features_list = list(test_features.columns)\n",
    "# Convert to numpy array\n",
    "test_features_list = np.array(test_features_list)"
   ]
  },
  {
   "cell_type": "markdown",
   "id": "e7362191",
   "metadata": {},
   "source": [
    "# Model accuracy"
   ]
  },
  {
   "cell_type": "code",
   "execution_count": 4,
   "id": "97652475",
   "metadata": {},
   "outputs": [
    {
     "name": "stdout",
     "output_type": "stream",
     "text": [
      "Accuracy:  0.6666666666666666\n"
     ]
    }
   ],
   "source": [
    "from sklearn.model_selection import train_test_split\n",
    "from sklearn.ensemble import RandomForestClassifier\n",
    "from sklearn import metrics\n",
    "\n",
    "x_train = train_features\n",
    "y_train = train_outcomes\n",
    "x_test = test_features\n",
    "y_test = test_outcomes\n",
    "         \n",
    "clf = RandomForestClassifier(n_estimators=100, random_state=0)\n",
    "clf.fit(x_train, y_train)\n",
    "y_pred = clf.predict(x_test)\n",
    "    \n",
    "acc = metrics.accuracy_score(y_test, y_pred)\n",
    "print('Accuracy: ', acc)   "
   ]
  },
  {
   "cell_type": "markdown",
   "id": "14b5357c",
   "metadata": {},
   "source": [
    "# Important score"
   ]
  },
  {
   "cell_type": "code",
   "execution_count": 5,
   "id": "3425ff31",
   "metadata": {},
   "outputs": [],
   "source": [
    "#sort important scores of each parameters\n",
    "#use only this code, no need to run the previous two sets of code\n",
    "imp_score = pd.Series(clf.feature_importances_,index=train_features_list).sort_values(ascending=False)"
   ]
  },
  {
   "cell_type": "code",
   "execution_count": 6,
   "id": "93a542da",
   "metadata": {},
   "outputs": [
    {
     "name": "stdout",
     "output_type": "stream",
     "text": [
      "SS              0.195478\n",
      "rings           0.031941\n",
      "BCUT_SMR_1      0.023770\n",
      "BCUT_PEOE_2     0.023012\n",
      "opr_brigid      0.019606\n",
      "GCUT_PEOE_1     0.019317\n",
      "logS            0.016543\n",
      "b_max1len       0.016210\n",
      "GCUT_PEOE_2     0.015834\n",
      "h_log_pbo       0.015543\n",
      "a_aro           0.012583\n",
      "BCUT_PEOE_1     0.012511\n",
      "GCUT_SMR_1      0.012342\n",
      "BCUT_SLOGP_1    0.012114\n",
      "logP(o/w)       0.011924\n",
      "GCUT_SLOGP_1    0.011684\n",
      "GCUT_SLOGP_3    0.011145\n",
      "PEOE_VSA-5      0.010989\n",
      "GCUT_PEOE_3     0.010088\n",
      "PEOE_PC+        0.010005\n",
      "dtype: float64\n"
     ]
    }
   ],
   "source": [
    "#top 20 parameters with the largest values of important scores\n",
    "top20_imp_score = imp_score[0:20]\n",
    "print(top20_imp_score)"
   ]
  },
  {
   "cell_type": "code",
   "execution_count": 7,
   "id": "9c31bfad",
   "metadata": {},
   "outputs": [
    {
     "data": {
      "image/png": "[encoded data removed]",
      "text/plain": [
       "<Figure size 432x288 with 1 Axes>"
      ]
     },
     "metadata": {
      "needs_background": "light"
     },
     "output_type": "display_data"
    }
   ],
   "source": [
    "#plot important scores\n",
    "import matplotlib.pyplot as plt\n",
    "import seaborn as sns\n",
    "\n",
    "sns.barplot(x=top20_imp_score, y=top20_imp_score.index)\n",
    "sns.set(rc={'figure.figsize':(8,6)})\n",
    "plt.xlabel('parameter Importance Score')\n",
    "plt.ylabel('parameters')\n",
    "plt.title('Visualizing Important scores')\n",
    "plt.show()"
   ]
  },
  {
   "cell_type": "code",
   "execution_count": 8,
   "id": "5a1de2f0",
   "metadata": {},
   "outputs": [
    {
     "data": {
      "text/html": [
       "<div>\n",
       "<style scoped>\n",
       "    .dataframe tbody tr th:only-of-type {\n",
       "        vertical-align: middle;\n",
       "    }\n",
       "\n",
       "    .dataframe tbody tr th {\n",
       "        vertical-align: top;\n",
       "    }\n",
       "\n",
       "    .dataframe thead th {\n",
       "        text-align: right;\n",
       "    }\n",
       "</style>\n",
       "<table border=\"1\" class=\"dataframe\">\n",
       "  <thead>\n",
       "    <tr style=\"text-align: right;\">\n",
       "      <th></th>\n",
       "      <th>Solvent name</th>\n",
       "      <th>Sol_25c</th>\n",
       "      <th>SS</th>\n",
       "      <th>CrysShape</th>\n",
       "      <th>Prediction</th>\n",
       "    </tr>\n",
       "  </thead>\n",
       "  <tbody>\n",
       "    <tr>\n",
       "      <th>0</th>\n",
       "      <td>2-Butanol</td>\n",
       "      <td>5.96</td>\n",
       "      <td>1.510067</td>\n",
       "      <td>Polyhedral</td>\n",
       "      <td>Polyhedral</td>\n",
       "    </tr>\n",
       "    <tr>\n",
       "      <th>1</th>\n",
       "      <td>2-Butanol</td>\n",
       "      <td>5.96</td>\n",
       "      <td>1.677852</td>\n",
       "      <td>Needle</td>\n",
       "      <td>Needle</td>\n",
       "    </tr>\n",
       "    <tr>\n",
       "      <th>2</th>\n",
       "      <td>2-Butanol</td>\n",
       "      <td>5.96</td>\n",
       "      <td>1.641329</td>\n",
       "      <td>Polyhedral</td>\n",
       "      <td>Needle</td>\n",
       "    </tr>\n",
       "    <tr>\n",
       "      <th>3</th>\n",
       "      <td>2-Butanol</td>\n",
       "      <td>5.96</td>\n",
       "      <td>1.834181</td>\n",
       "      <td>Polyhedral</td>\n",
       "      <td>Needle</td>\n",
       "    </tr>\n",
       "    <tr>\n",
       "      <th>4</th>\n",
       "      <td>2-Butanol</td>\n",
       "      <td>5.96</td>\n",
       "      <td>1.937428</td>\n",
       "      <td>Needle</td>\n",
       "      <td>Needle</td>\n",
       "    </tr>\n",
       "    <tr>\n",
       "      <th>5</th>\n",
       "      <td>2-Butanol</td>\n",
       "      <td>5.96</td>\n",
       "      <td>2.029562</td>\n",
       "      <td>Needle</td>\n",
       "      <td>Needle</td>\n",
       "    </tr>\n",
       "  </tbody>\n",
       "</table>\n",
       "</div>"
      ],
      "text/plain": [
       "  Solvent name  Sol_25c        SS   CrysShape  Prediction\n",
       "0    2-Butanol     5.96  1.510067  Polyhedral  Polyhedral\n",
       "1    2-Butanol     5.96  1.677852      Needle      Needle\n",
       "2    2-Butanol     5.96  1.641329  Polyhedral      Needle\n",
       "3    2-Butanol     5.96  1.834181  Polyhedral      Needle\n",
       "4    2-Butanol     5.96  1.937428      Needle      Needle\n",
       "5    2-Butanol     5.96  2.029562      Needle      Needle"
      ]
     },
     "execution_count": 8,
     "metadata": {},
     "output_type": "execute_result"
    }
   ],
   "source": [
    "# Add column 'Prediction' to the dataframe\n",
    "test_dataset['Prediction'] = y_pred\n",
    "\n",
    "predicted_shape = test_dataset[['Solvent name', 'Sol_25c', 'SS','CrysShape', 'Prediction']]\n",
    "predicted_shape"
   ]
  },
  {
   "cell_type": "markdown",
   "id": "96d2a0d3",
   "metadata": {},
   "source": [
    "# Feature selection"
   ]
  },
  {
   "cell_type": "markdown",
   "id": "cf3a2752",
   "metadata": {},
   "source": [
    "## Top-20"
   ]
  },
  {
   "cell_type": "code",
   "execution_count": 9,
   "id": "ccf45e73",
   "metadata": {},
   "outputs": [
    {
     "name": "stdout",
     "output_type": "stream",
     "text": [
      "Accuracy:  0.5\n"
     ]
    }
   ],
   "source": [
    "#train data\n",
    "train_features_top20 = train_dataset[top20_imp_score.index]\n",
    "# Saving feature names for later use\n",
    "train_features_top20_list = list(train_features_top20.columns)\n",
    "# Convert to numpy array\n",
    "train_features_top20_list = np.array(train_features_top20_list)\n",
    "\n",
    "#test data\n",
    "test_features_top20 = test_dataset[top20_imp_score.index]\n",
    "# Saving feature names for later use\n",
    "test_features_top20_list = list(test_features_top20.columns)\n",
    "# Convert to numpy array\n",
    "test_features_top20_list = np.array(test_features_top20_list)\n",
    "\n",
    "# Model accuracy\n",
    "x_train = train_features_top20\n",
    "y_train = train_outcomes\n",
    "x_test = test_features_top20\n",
    "y_test = test_outcomes\n",
    "         \n",
    "clf = RandomForestClassifier(n_estimators=100, random_state=0)\n",
    "clf.fit(x_train, y_train)\n",
    "y_pred = clf.predict(x_test)\n",
    "    \n",
    "acc = metrics.accuracy_score(y_test, y_pred)\n",
    "print('Accuracy: ', acc)   "
   ]
  },
  {
   "cell_type": "code",
   "execution_count": 10,
   "id": "e0df2004",
   "metadata": {},
   "outputs": [
    {
     "name": "stdout",
     "output_type": "stream",
     "text": [
      "SS              0.184231\n",
      "PEOE_VSA-5      0.085260\n",
      "PEOE_PC+        0.065341\n",
      "opr_brigid      0.057598\n",
      "logS            0.053693\n",
      "rings           0.050092\n",
      "GCUT_PEOE_1     0.049592\n",
      "BCUT_PEOE_1     0.047488\n",
      "GCUT_PEOE_3     0.046530\n",
      "BCUT_SMR_1      0.046096\n",
      "BCUT_PEOE_2     0.043918\n",
      "GCUT_SLOGP_3    0.043225\n",
      "BCUT_SLOGP_1    0.041822\n",
      "logP(o/w)       0.037919\n",
      "GCUT_PEOE_2     0.036602\n",
      "h_log_pbo       0.033685\n",
      "GCUT_SMR_1      0.031198\n",
      "GCUT_SLOGP_1    0.019296\n",
      "b_max1len       0.014504\n",
      "a_aro           0.011911\n",
      "dtype: float64\n"
     ]
    }
   ],
   "source": [
    "#plot important scores\n",
    "\n",
    "imp_score = pd.Series(clf.feature_importances_,index=train_features_top20_list).sort_values(ascending=False)\n",
    "print(imp_score)"
   ]
  },
  {
   "cell_type": "code",
   "execution_count": 11,
   "id": "484b46b7",
   "metadata": {},
   "outputs": [
    {
     "data": {
      "image/png": "[encoded data removed]",
      "text/plain": [
       "<Figure size 576x432 with 1 Axes>"
      ]
     },
     "metadata": {},
     "output_type": "display_data"
    }
   ],
   "source": [
    "sns.barplot(x=imp_score, y=imp_score.index)\n",
    "sns.set(rc={'figure.figsize':(8,6)})\n",
    "plt.xlabel('parameter Importance Score')\n",
    "plt.ylabel('parameters')\n",
    "plt.title('Visualizing Important scores')\n",
    "plt.show()"
   ]
  },
  {
   "cell_type": "code",
   "execution_count": 12,
   "id": "107e92ac",
   "metadata": {},
   "outputs": [
    {
     "data": {
      "text/html": [
       "<div>\n",
       "<style scoped>\n",
       "    .dataframe tbody tr th:only-of-type {\n",
       "        vertical-align: middle;\n",
       "    }\n",
       "\n",
       "    .dataframe tbody tr th {\n",
       "        vertical-align: top;\n",
       "    }\n",
       "\n",
       "    .dataframe thead th {\n",
       "        text-align: right;\n",
       "    }\n",
       "</style>\n",
       "<table border=\"1\" class=\"dataframe\">\n",
       "  <thead>\n",
       "    <tr style=\"text-align: right;\">\n",
       "      <th></th>\n",
       "      <th>Solvent name</th>\n",
       "      <th>Sol_25c</th>\n",
       "      <th>SS</th>\n",
       "      <th>CrysShape</th>\n",
       "      <th>Prediction</th>\n",
       "    </tr>\n",
       "  </thead>\n",
       "  <tbody>\n",
       "    <tr>\n",
       "      <th>0</th>\n",
       "      <td>2-Butanol</td>\n",
       "      <td>5.96</td>\n",
       "      <td>1.510067</td>\n",
       "      <td>Polyhedral</td>\n",
       "      <td>Needle</td>\n",
       "    </tr>\n",
       "    <tr>\n",
       "      <th>1</th>\n",
       "      <td>2-Butanol</td>\n",
       "      <td>5.96</td>\n",
       "      <td>1.677852</td>\n",
       "      <td>Needle</td>\n",
       "      <td>Needle</td>\n",
       "    </tr>\n",
       "    <tr>\n",
       "      <th>2</th>\n",
       "      <td>2-Butanol</td>\n",
       "      <td>5.96</td>\n",
       "      <td>1.641329</td>\n",
       "      <td>Polyhedral</td>\n",
       "      <td>Needle</td>\n",
       "    </tr>\n",
       "    <tr>\n",
       "      <th>3</th>\n",
       "      <td>2-Butanol</td>\n",
       "      <td>5.96</td>\n",
       "      <td>1.834181</td>\n",
       "      <td>Polyhedral</td>\n",
       "      <td>Needle</td>\n",
       "    </tr>\n",
       "    <tr>\n",
       "      <th>4</th>\n",
       "      <td>2-Butanol</td>\n",
       "      <td>5.96</td>\n",
       "      <td>1.937428</td>\n",
       "      <td>Needle</td>\n",
       "      <td>Needle</td>\n",
       "    </tr>\n",
       "    <tr>\n",
       "      <th>5</th>\n",
       "      <td>2-Butanol</td>\n",
       "      <td>5.96</td>\n",
       "      <td>2.029562</td>\n",
       "      <td>Needle</td>\n",
       "      <td>Needle</td>\n",
       "    </tr>\n",
       "  </tbody>\n",
       "</table>\n",
       "</div>"
      ],
      "text/plain": [
       "  Solvent name  Sol_25c        SS   CrysShape Prediction\n",
       "0    2-Butanol     5.96  1.510067  Polyhedral     Needle\n",
       "1    2-Butanol     5.96  1.677852      Needle     Needle\n",
       "2    2-Butanol     5.96  1.641329  Polyhedral     Needle\n",
       "3    2-Butanol     5.96  1.834181  Polyhedral     Needle\n",
       "4    2-Butanol     5.96  1.937428      Needle     Needle\n",
       "5    2-Butanol     5.96  2.029562      Needle     Needle"
      ]
     },
     "execution_count": 12,
     "metadata": {},
     "output_type": "execute_result"
    }
   ],
   "source": [
    "# Add column 'Prediction' to the dataframe\n",
    "test_dataset['Prediction'] = y_pred\n",
    "\n",
    "predicted_shape = test_dataset[['Solvent name', 'Sol_25c', 'SS','CrysShape', 'Prediction']]\n",
    "predicted_shape"
   ]
  },
  {
   "cell_type": "markdown",
   "id": "00a44091",
   "metadata": {},
   "source": [
    "## Atom counts and bond counts + Pharmacophore features"
   ]
  },
  {
   "cell_type": "code",
   "execution_count": 13,
   "id": "b153f57b",
   "metadata": {},
   "outputs": [
    {
     "name": "stdout",
     "output_type": "stream",
     "text": [
      "Accuracy:  0.6666666666666666\n"
     ]
    }
   ],
   "source": [
    "#train data\n",
    "train_features_structure = train_dataset[['a_aro', 'a_count', 'a_heavy', 'a_nH', 'a_nC', 'a_nN', 'a_nO', 'a_nS', 'a_nCl', 'a_nBr',\n",
    "                          'a_nI', 'b_ar', 'b_count', 'b_double', 'b_heavy', 'b_rotN', 'b_single', 'b_triple', 'chiral',\n",
    "                          'opr_brigid', 'rings', 'a_acc', 'a_don', 'a_acid', 'a_base', 'a_hyd', 'SS']]\n",
    "\n",
    "# Saving feature names for later use\n",
    "train_features_structure_list = list(train_features_structure.columns)\n",
    "# Convert to numpy array\n",
    "train_features_structure_list = np.array(train_features_structure_list)\n",
    "\n",
    "#test data\n",
    "test_features_structure = test_dataset[['a_aro', 'a_count', 'a_heavy', 'a_nH', 'a_nC', 'a_nN', 'a_nO', 'a_nS', 'a_nCl', 'a_nBr',\n",
    "                          'a_nI', 'b_ar', 'b_count', 'b_double', 'b_heavy', 'b_rotN', 'b_single', 'b_triple', 'chiral',\n",
    "                          'opr_brigid', 'rings', 'a_acc', 'a_don', 'a_acid', 'a_base', 'a_hyd', 'SS']]\n",
    "\n",
    "# Saving feature names for later use\n",
    "test_features_structure_list = list(test_features_structure.columns)\n",
    "# Convert to numpy array\n",
    "test_features_structure_list = np.array(test_features_structure_list)\n",
    "\n",
    "# Model accuracy\n",
    "x_train = train_features_structure\n",
    "y_train = train_outcomes\n",
    "x_test = test_features_structure\n",
    "y_test = test_outcomes\n",
    "         \n",
    "clf = RandomForestClassifier(n_estimators=100, random_state=0)\n",
    "clf.fit(x_train, y_train)\n",
    "y_pred = clf.predict(x_test)\n",
    "    \n",
    "acc = metrics.accuracy_score(y_test, y_pred)\n",
    "print('Accuracy: ', acc)   "
   ]
  },
  {
   "cell_type": "code",
   "execution_count": 14,
   "id": "8f004d58",
   "metadata": {},
   "outputs": [
    {
     "name": "stdout",
     "output_type": "stream",
     "text": [
      "SS            0.194404\n",
      "rings         0.075244\n",
      "a_count       0.069564\n",
      "b_single      0.068503\n",
      "opr_brigid    0.068361\n",
      "b_heavy       0.051162\n",
      "b_count       0.050492\n",
      "a_nC          0.045512\n",
      "a_nO          0.045333\n",
      "a_nBr         0.043622\n",
      "a_nH          0.041987\n",
      "a_aro         0.038847\n",
      "a_hyd         0.038415\n",
      "b_ar          0.030764\n",
      "a_heavy       0.029102\n",
      "b_rotN        0.028886\n",
      "a_nN          0.018671\n",
      "a_don         0.016159\n",
      "a_nCl         0.015642\n",
      "b_double      0.014877\n",
      "a_acc         0.010446\n",
      "a_nS          0.002401\n",
      "b_triple      0.001226\n",
      "a_nI          0.000382\n",
      "chiral        0.000000\n",
      "a_acid        0.000000\n",
      "a_base        0.000000\n",
      "dtype: float64\n"
     ]
    }
   ],
   "source": [
    "#plot important scores\n",
    "\n",
    "imp_score = pd.Series(clf.feature_importances_,index=train_features_structure_list).sort_values(ascending=False)\n",
    "print(imp_score)"
   ]
  },
  {
   "cell_type": "code",
   "execution_count": 15,
   "id": "569d5b33",
   "metadata": {},
   "outputs": [
    {
     "data": {
      "image/png": "[encoded data removed]",
      "text/plain": [
       "<Figure size 576x432 with 1 Axes>"
      ]
     },
     "metadata": {},
     "output_type": "display_data"
    }
   ],
   "source": [
    "sns.barplot(x=imp_score, y=imp_score.index)\n",
    "sns.set(rc={'figure.figsize':(8,6)})\n",
    "plt.xlabel('parameter Importance Score')\n",
    "plt.ylabel('parameters')\n",
    "plt.title('Visualizing Important scores')\n",
    "plt.show()"
   ]
  },
  {
   "cell_type": "code",
   "execution_count": 16,
   "id": "3ef07f6d",
   "metadata": {},
   "outputs": [],
   "source": [
    "# Add column 'Prediction' to the dataframe\n",
    "test_dataset['Prediction'] = y_pred"
   ]
  },
  {
   "cell_type": "code",
   "execution_count": 17,
   "id": "5fc7a7f0",
   "metadata": {},
   "outputs": [
    {
     "data": {
      "text/html": [
       "<div>\n",
       "<style scoped>\n",
       "    .dataframe tbody tr th:only-of-type {\n",
       "        vertical-align: middle;\n",
       "    }\n",
       "\n",
       "    .dataframe tbody tr th {\n",
       "        vertical-align: top;\n",
       "    }\n",
       "\n",
       "    .dataframe thead th {\n",
       "        text-align: right;\n",
       "    }\n",
       "</style>\n",
       "<table border=\"1\" class=\"dataframe\">\n",
       "  <thead>\n",
       "    <tr style=\"text-align: right;\">\n",
       "      <th></th>\n",
       "      <th>Solvent name</th>\n",
       "      <th>Sol_25c</th>\n",
       "      <th>SS</th>\n",
       "      <th>CrysShape</th>\n",
       "      <th>Prediction</th>\n",
       "    </tr>\n",
       "  </thead>\n",
       "  <tbody>\n",
       "    <tr>\n",
       "      <th>0</th>\n",
       "      <td>2-Butanol</td>\n",
       "      <td>5.96</td>\n",
       "      <td>1.510067</td>\n",
       "      <td>Polyhedral</td>\n",
       "      <td>Polyhedral</td>\n",
       "    </tr>\n",
       "    <tr>\n",
       "      <th>1</th>\n",
       "      <td>2-Butanol</td>\n",
       "      <td>5.96</td>\n",
       "      <td>1.677852</td>\n",
       "      <td>Needle</td>\n",
       "      <td>Needle</td>\n",
       "    </tr>\n",
       "    <tr>\n",
       "      <th>2</th>\n",
       "      <td>2-Butanol</td>\n",
       "      <td>5.96</td>\n",
       "      <td>1.641329</td>\n",
       "      <td>Polyhedral</td>\n",
       "      <td>Needle</td>\n",
       "    </tr>\n",
       "    <tr>\n",
       "      <th>3</th>\n",
       "      <td>2-Butanol</td>\n",
       "      <td>5.96</td>\n",
       "      <td>1.834181</td>\n",
       "      <td>Polyhedral</td>\n",
       "      <td>Needle</td>\n",
       "    </tr>\n",
       "    <tr>\n",
       "      <th>4</th>\n",
       "      <td>2-Butanol</td>\n",
       "      <td>5.96</td>\n",
       "      <td>1.937428</td>\n",
       "      <td>Needle</td>\n",
       "      <td>Needle</td>\n",
       "    </tr>\n",
       "    <tr>\n",
       "      <th>5</th>\n",
       "      <td>2-Butanol</td>\n",
       "      <td>5.96</td>\n",
       "      <td>2.029562</td>\n",
       "      <td>Needle</td>\n",
       "      <td>Needle</td>\n",
       "    </tr>\n",
       "  </tbody>\n",
       "</table>\n",
       "</div>"
      ],
      "text/plain": [
       "  Solvent name  Sol_25c        SS   CrysShape  Prediction\n",
       "0    2-Butanol     5.96  1.510067  Polyhedral  Polyhedral\n",
       "1    2-Butanol     5.96  1.677852      Needle      Needle\n",
       "2    2-Butanol     5.96  1.641329  Polyhedral      Needle\n",
       "3    2-Butanol     5.96  1.834181  Polyhedral      Needle\n",
       "4    2-Butanol     5.96  1.937428      Needle      Needle\n",
       "5    2-Butanol     5.96  2.029562      Needle      Needle"
      ]
     },
     "execution_count": 17,
     "metadata": {},
     "output_type": "execute_result"
    }
   ],
   "source": [
    "predicted_shape = test_dataset[['Solvent name', 'Sol_25c', 'SS','CrysShape', 'Prediction']]\n",
    "predicted_shape"
   ]
  },
  {
   "cell_type": "markdown",
   "id": "3f69326e",
   "metadata": {},
   "source": [
    "## Physical properties"
   ]
  },
  {
   "cell_type": "code",
   "execution_count": 18,
   "id": "f45be823",
   "metadata": {},
   "outputs": [
    {
     "name": "stdout",
     "output_type": "stream",
     "text": [
      "Accuracy:  0.6666666666666666\n"
     ]
    }
   ],
   "source": [
    "# train data\n",
    "train_features_prop = train_dataset[['apol', 'bpol', 'density', 'mr', 'SMR', 'Weight', 'logP(o/w)', 'logS', 'reactive',\n",
    "                          'SlogP', 'TPSA', 'vdw_vol', 'vdw_area', 'SS']]\n",
    "# Saving feature names for later use\n",
    "train_features_prop_list = list(train_features_prop.columns)\n",
    "# Convert to numpy array\n",
    "train_features_prop_list = np.array(train_features_prop_list)\n",
    "\n",
    "# test data\n",
    "test_features_prop = test_dataset[['apol', 'bpol', 'density', 'mr', 'SMR', 'Weight', 'logP(o/w)', 'logS', 'reactive',\n",
    "                          'SlogP', 'TPSA', 'vdw_vol', 'vdw_area', 'SS']]\n",
    "# Saving feature names for later use\n",
    "test_features_prop_list = list(test_features_prop.columns)\n",
    "# Convert to numpy array\n",
    "test_features_prop_list = np.array(test_features_prop_list)\n",
    "\n",
    "# Model accuracy\n",
    "x_train = train_features_prop\n",
    "y_train = train_outcomes\n",
    "x_test = test_features_prop\n",
    "y_test = test_outcomes\n",
    "         \n",
    "clf = RandomForestClassifier(n_estimators=100, random_state=0)\n",
    "clf.fit(x_train, y_train)\n",
    "y_pred = clf.predict(x_test)\n",
    "    \n",
    "acc = metrics.accuracy_score(y_test, y_pred)\n",
    "print('Accuracy: ', acc)   "
   ]
  },
  {
   "cell_type": "code",
   "execution_count": 19,
   "id": "f05db22f",
   "metadata": {},
   "outputs": [
    {
     "name": "stdout",
     "output_type": "stream",
     "text": [
      "SS           0.189788\n",
      "logS         0.109241\n",
      "mr           0.094100\n",
      "vdw_area     0.079962\n",
      "bpol         0.078040\n",
      "vdw_vol      0.076823\n",
      "logP(o/w)    0.074486\n",
      "SMR          0.066677\n",
      "apol         0.064111\n",
      "Weight       0.043101\n",
      "density      0.042912\n",
      "SlogP        0.038416\n",
      "TPSA         0.037320\n",
      "reactive     0.005023\n",
      "dtype: float64\n"
     ]
    }
   ],
   "source": [
    "#plot important scores\n",
    "\n",
    "imp_score = pd.Series(clf.feature_importances_,index=train_features_prop_list).sort_values(ascending=False)\n",
    "print(imp_score)"
   ]
  },
  {
   "cell_type": "code",
   "execution_count": 20,
   "id": "e01ef166",
   "metadata": {},
   "outputs": [
    {
     "data": {
      "image/png": "[encoded data removed]",
      "text/plain": [
       "<Figure size 576x432 with 1 Axes>"
      ]
     },
     "metadata": {},
     "output_type": "display_data"
    }
   ],
   "source": [
    "sns.barplot(x=imp_score, y=imp_score.index)\n",
    "sns.set(rc={'figure.figsize':(8,6)})\n",
    "plt.xlabel('parameter Importance Score')\n",
    "plt.ylabel('parameters')\n",
    "plt.title('Visualizing Important scores')\n",
    "plt.show()"
   ]
  },
  {
   "cell_type": "code",
   "execution_count": 21,
   "id": "1727e7d5",
   "metadata": {},
   "outputs": [
    {
     "name": "stdout",
     "output_type": "stream",
     "text": [
      "[[3 0]\n",
      " [2 1]]\n"
     ]
    }
   ],
   "source": [
    "#confusion matrix\n",
    "from sklearn.metrics import confusion_matrix\n",
    "conf_mat = confusion_matrix(y_test, y_pred)\n",
    "print(conf_mat)"
   ]
  },
  {
   "cell_type": "code",
   "execution_count": 22,
   "id": "3aad9c97",
   "metadata": {},
   "outputs": [
    {
     "data": {
      "image/png": "[encoded data removed]",
      "text/plain": [
       "<Figure size 576x432 with 2 Axes>"
      ]
     },
     "metadata": {},
     "output_type": "display_data"
    }
   ],
   "source": [
    "# Visualize it as a heatmap\n",
    "import seaborn\n",
    "seaborn.heatmap(conf_mat)\n",
    "plt.show()"
   ]
  },
  {
   "cell_type": "code",
   "execution_count": 23,
   "id": "0897109e",
   "metadata": {},
   "outputs": [
    {
     "name": "stdout",
     "output_type": "stream",
     "text": [
      "              precision    recall  f1-score   support\n",
      "\n",
      "      Needle       0.60      1.00      0.75         3\n",
      "  Polyhedral       1.00      0.33      0.50         3\n",
      "\n",
      "    accuracy                           0.67         6\n",
      "   macro avg       0.80      0.67      0.62         6\n",
      "weighted avg       0.80      0.67      0.62         6\n",
      "\n"
     ]
    }
   ],
   "source": [
    "#precision and recall\n",
    "from sklearn.metrics import classification_report\n",
    "print(classification_report(y_test, y_pred))"
   ]
  },
  {
   "cell_type": "code",
   "execution_count": 24,
   "id": "fa25828d",
   "metadata": {},
   "outputs": [],
   "source": [
    "# Add column 'Prediction' to the dataframe\n",
    "test_dataset['Prediction'] = y_pred"
   ]
  },
  {
   "cell_type": "code",
   "execution_count": 25,
   "id": "8f96e6b5",
   "metadata": {},
   "outputs": [
    {
     "data": {
      "text/html": [
       "<div>\n",
       "<style scoped>\n",
       "    .dataframe tbody tr th:only-of-type {\n",
       "        vertical-align: middle;\n",
       "    }\n",
       "\n",
       "    .dataframe tbody tr th {\n",
       "        vertical-align: top;\n",
       "    }\n",
       "\n",
       "    .dataframe thead th {\n",
       "        text-align: right;\n",
       "    }\n",
       "</style>\n",
       "<table border=\"1\" class=\"dataframe\">\n",
       "  <thead>\n",
       "    <tr style=\"text-align: right;\">\n",
       "      <th></th>\n",
       "      <th>Solvent name</th>\n",
       "      <th>Sol_25c</th>\n",
       "      <th>SS</th>\n",
       "      <th>CrysShape</th>\n",
       "      <th>Prediction</th>\n",
       "    </tr>\n",
       "  </thead>\n",
       "  <tbody>\n",
       "    <tr>\n",
       "      <th>0</th>\n",
       "      <td>2-Butanol</td>\n",
       "      <td>5.96</td>\n",
       "      <td>1.510067</td>\n",
       "      <td>Polyhedral</td>\n",
       "      <td>Polyhedral</td>\n",
       "    </tr>\n",
       "    <tr>\n",
       "      <th>1</th>\n",
       "      <td>2-Butanol</td>\n",
       "      <td>5.96</td>\n",
       "      <td>1.677852</td>\n",
       "      <td>Needle</td>\n",
       "      <td>Needle</td>\n",
       "    </tr>\n",
       "    <tr>\n",
       "      <th>2</th>\n",
       "      <td>2-Butanol</td>\n",
       "      <td>5.96</td>\n",
       "      <td>1.641329</td>\n",
       "      <td>Polyhedral</td>\n",
       "      <td>Needle</td>\n",
       "    </tr>\n",
       "    <tr>\n",
       "      <th>3</th>\n",
       "      <td>2-Butanol</td>\n",
       "      <td>5.96</td>\n",
       "      <td>1.834181</td>\n",
       "      <td>Polyhedral</td>\n",
       "      <td>Needle</td>\n",
       "    </tr>\n",
       "    <tr>\n",
       "      <th>4</th>\n",
       "      <td>2-Butanol</td>\n",
       "      <td>5.96</td>\n",
       "      <td>1.937428</td>\n",
       "      <td>Needle</td>\n",
       "      <td>Needle</td>\n",
       "    </tr>\n",
       "    <tr>\n",
       "      <th>5</th>\n",
       "      <td>2-Butanol</td>\n",
       "      <td>5.96</td>\n",
       "      <td>2.029562</td>\n",
       "      <td>Needle</td>\n",
       "      <td>Needle</td>\n",
       "    </tr>\n",
       "  </tbody>\n",
       "</table>\n",
       "</div>"
      ],
      "text/plain": [
       "  Solvent name  Sol_25c        SS   CrysShape  Prediction\n",
       "0    2-Butanol     5.96  1.510067  Polyhedral  Polyhedral\n",
       "1    2-Butanol     5.96  1.677852      Needle      Needle\n",
       "2    2-Butanol     5.96  1.641329  Polyhedral      Needle\n",
       "3    2-Butanol     5.96  1.834181  Polyhedral      Needle\n",
       "4    2-Butanol     5.96  1.937428      Needle      Needle\n",
       "5    2-Butanol     5.96  2.029562      Needle      Needle"
      ]
     },
     "execution_count": 25,
     "metadata": {},
     "output_type": "execute_result"
    }
   ],
   "source": [
    "predicted_shape = test_dataset[['Solvent name', 'Sol_25c', 'SS','CrysShape', 'Prediction']]\n",
    "predicted_shape"
   ]
  }
 ],
 "metadata": {
  "kernelspec": {
   "display_name": "Python 3",
   "language": "python",
   "name": "python3"
  },
  "language_info": {
   "codemirror_mode": {
    "name": "ipython",
    "version": 3
   },
   "file_extension": ".py",
   "mimetype": "text/x-python",
   "name": "python",
   "nbconvert_exporter": "python",
   "pygments_lexer": "ipython3",
   "version": "3.8.8"
  }
 },
 "nbformat": 4,
 "nbformat_minor": 5
}
